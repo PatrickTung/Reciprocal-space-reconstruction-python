{
 "cells": [
  {
   "cell_type": "code",
   "execution_count": null,
   "metadata": {},
   "outputs": [],
   "source": [
    "# Next step!\n",
    "# See if you can stop deallocation, or look at pinning memory, or mapping memory\n",
    "# defer cleanup - test with smaller arrays to see how this works"
   ]
  },
  {
   "cell_type": "code",
   "execution_count": 85,
   "metadata": {
    "ExecuteTime": {
     "end_time": "2020-07-13T14:11:33.400723Z",
     "start_time": "2020-07-13T14:11:31.920517Z"
    }
   },
   "outputs": [],
   "source": [
    "import numpy as np\n",
    "import pandas as pd\n",
    "import fabio\n",
    "#import cupy as cp\n",
    "from datetime import datetime\n",
    "from numba import jit, cuda, prange\n",
    "import time\n",
    "import math\n",
    "# import numba"
   ]
  },
  {
   "cell_type": "code",
   "execution_count": 225,
   "metadata": {
    "ExecuteTime": {
     "end_time": "2020-07-13T14:11:33.414688Z",
     "start_time": "2020-07-13T14:11:33.407691Z"
    }
   },
   "outputs": [],
   "source": [
    "#initialze detector info\n",
    "# //These are the details of the detector in the detInfo wave\n",
    "# \t//detInfo[0] = xdim\n",
    "# \t//detInfo[1] = ydim\n",
    "# \t//detInfo[2] = xpixsize\tGiven in mm\n",
    "# \t//detInfo[3] = ypixsize\tGiven in mm\n",
    "# \t//detInfo[4] = xcen (pixels)\n",
    "# \t//detInfo[5] = ycen (pixels)\n",
    "# \t//detInfo[6] = tiltang\tGiven in degrees\n",
    "# \t//detInfo[7] = tiltrot\t\tGiven in degrees\n",
    "# \t//detInfo[8] = sample to detector distance\tGiven in mm\n",
    "# \t//detInfo[9] = lamda\tGiven in Angstroms\n",
    "# detInfo = np.array([1475,1679,0.17200001,0.17200001,738.00598,829.4032,0,0,450,0.23946001])\n",
    "detInfo = np.array([2048,2048,0.085,0.085,1062.08,1042.1,-0.655953,133.021,714.029,0.16118])\n",
    "imFilePrefix = \"\"\n",
    "imNumbers = np.arange(1,1000)\n",
    "boxsize = 501\n",
    "qmax = 5\n",
    "# boxname = \"\"\n",
    "omegaPos = np.arange(9.8,-50.2,-0.2)\n",
    "phiPos = np.zeros_like(omegaPos)\n",
    "psiPos = np.zeros_like(omegaPos)\n",
    "mask = []\n",
    "rejects = []\n",
    "cust_mask = []\n",
    "mask_list = []\n",
    "rotmatrix = np.array([0.61190927,0.098435618,-0.78477865,-0.78786123,-0.011431515,-0.61574668,0.069582619,-0.99507779,-0.070558563]).reshape((3,3))\n",
    "normInt = np.arange(1,1000)\n",
    "startIm = 0\n",
    "# box = np.zeros((boxsize,boxsize,boxsize),dtype=np.float32)"
   ]
  },
  {
   "cell_type": "code",
   "execution_count": 226,
   "metadata": {},
   "outputs": [],
   "source": [
    "def DiffuseReconstruction(fileNum):\n",
    "    # t0 = time.perf_counter()\n",
    "    tiltang = detInfo[6]*np.pi/180; tiltrot = detInfo[7]*np.pi/180; dist = detInfo[8]\n",
    "    \n",
    "#     row,col = np.indices((int(detInfo[0]),int(detInfo[1])))\n",
    "    row = np.arange(0,int(detInfo[0])).repeat(int(detInfo[1])).reshape(int(detInfo[0]),int(detInfo[1]))\n",
    "    col = np.arange(0,int(detInfo[1])).repeat(int(detInfo[0])).reshape(int(detInfo[1]),int(detInfo[0]))\n",
    "    col = np.transpose(col)\n",
    "#     TT = (np.arctan(np.sqrt((np.cos(tiltang)**2*(np.cos(tiltrot)*((row-detInfo[4])*detInfo[2])+np.sin(tiltrot)*((col-detInfo[5])*detInfo[3]))**2 + (-np.sin(tiltrot)*((row-detInfo[4])*detInfo[2]) + np.cos(tiltrot)*((col-detInfo[5])*detInfo[3]))**2)/((dist+np.sin(tiltang)*(np.cos(tiltrot)*((row-detInfo[4])*detInfo[2])+np.sin(tiltrot)*((col-detInfo[5])*detInfo[3])))**2))))/2\n",
    "    TT = (np.sqrt(np.arctan((np.cos(tiltang)**2*(np.cos(tiltrot)*((row-detInfo[4])*detInfo[2])+np.sin(tiltrot)*((col-detInfo[5])*detInfo[3]))**2 + (-np.sin(tiltrot)*((row-detInfo[4])*detInfo[2]) + np.cos(tiltrot)*((col-detInfo[5])*detInfo[3]))**2)/((dist+np.sin(tiltang)*(np.cos(tiltrot)*((row-detInfo[4])*detInfo[2])+np.sin(tiltrot)*((col-detInfo[5])*detInfo[3])))**2))))/2\n",
    "    AZ = np.arctan2(((col-detInfo[5])*detInfo[3]), ((row-detInfo[4])*detInfo[2]))+np.pi \n",
    "# #     TT = np.transpose(TT)\n",
    "# #     AZ = np.transpose(AZ)\n",
    "    \n",
    "    # TT1D = np.reshape(TT,int(detInfo[0])*int(detInfo[1]))\n",
    "    # AZ1D = np.reshape(AZ,int(detInfo[0])*int(detInfo[1]))\n",
    "\n",
    "    bigbox = np.zeros((boxsize,boxsize,boxsize),dtype=np.float32)\n",
    "    numpixels = np.zeros((boxsize,boxsize,boxsize),dtype=np.uint32)\n",
    "    # Use ravel() for shallow copy or flatten() for deep copy\n",
    "\n",
    "    # BBposX = np.zeros((int(detInfo[0]),int(detInfo[1])),dtype=np.int16)\n",
    "    # BBposY = np.zeros((int(detInfo[0]),int(detInfo[1])),dtype=np.int16)\n",
    "    # BBposZ = np.zeros((int(detInfo[0]),int(detInfo[1])),dtype=np.int16)\n",
    "\n",
    "    qrangex = np.linspace(-(qmax),qmax,boxsize)\n",
    "    qrangey = np.linspace(-(qmax),qmax,boxsize)\n",
    "    qrangez = np.linspace(-(qmax),qmax,boxsize)\n",
    "\n",
    "    # Make/copy arrays to gpu device\n",
    "    d_TT = cuda.to_device(TT)\n",
    "    d_AZ = cuda.to_device(AZ)\n",
    "    d_qx = cuda.device_array_like(d_TT)\n",
    "    d_qy = cuda.device_array_like(d_TT)\n",
    "    d_qz = cuda.device_array_like(d_TT)\n",
    "    d_BBposX = cuda.device_array_like(d_TT)\n",
    "    d_BBposY = cuda.device_array_like(d_TT)\n",
    "    d_BBposZ = cuda.device_array_like(d_TT)\n",
    "    qrangexstart = qrangex[0]\n",
    "    qrangexdelta = qrangex[1]\n",
    "    qrangeystart = qrangey[0]\n",
    "    qrangeydelta = qrangey[1]\n",
    "    qrangezstart = qrangez[0]\n",
    "    qrangezdelta = qrangez[1]\n",
    "    wavelength = detInfo[9]\n",
    "    detector_xdim = detInfo[0]\n",
    "    detector_ydim = detInfo[1]\n",
    "    pinned_CI = cuda.pinned_array(TT.shape)\n",
    "\n",
    "    d_bigboxlooper = cuda.device_array_like(bigbox)\n",
    "    d_numpixelslooper = cuda.device_array_like(numpixels)\n",
    "\n",
    "    #CUDA variables\n",
    "    blocks = (50,50)\n",
    "    threads_per_block = (25,25)\n",
    "\n",
    "    # remember to change this so it's more robust\n",
    "    bigbox_dims = bigbox.shape[0]\n",
    "\n",
    "    # t1p5 = time.perf_counter() - t0\n",
    "    # print(t1p5)\n",
    "\n",
    "    for i in range(fileNum):\n",
    "        # t1 = time.perf_counter()\n",
    "        # if i % 10 == 0:\n",
    "        print(i)\n",
    "        #use FABIO to load the image\n",
    "        CI_fabio = fabio.open(\"C:\\\\Users\\\\Patrick\\\\Desktop\\\\s1_363K_2p0_diffuse\\\\DisCorr\\\\s1_363K_2p0_diffuse_\"+(\"%04d\" % (i))+\".edf\")\n",
    "        #convert to numpy array\n",
    "        # pinned_CI = np.asarray(CI_fabio.data)\n",
    "        pinned_CI = CI_fabio.data\n",
    "#         CI = np.transpose(CI)\n",
    "        # CI = np.reshape(CI,int(detInfo[0])*int(detInfo[1]))\n",
    "        # pinned_CI = np.reshape(CI,int(detInfo[0])*int(detInfo[1]))\n",
    "        # pinned_CI = CI\n",
    "        # print(pinned_CI[2048*1050])\n",
    "        \n",
    "        omega = omegaPos[i]*np.pi/180; phi = phiPos[i]*np.pi/180; psi = psiPos[i]*np.pi/180\n",
    "        # row_dim = CI.shape[0]\n",
    "\n",
    "        # qx = (4*np.pi*np.sin(TT1D)/detInfo[9]) * (np.sin(TT1D)*(np.sin(phi)*np.sin(psi)*np.sin(omega) + np.cos(phi)*np.cos(omega)) + np.cos(TT1D)*np.cos(AZ1D)*np.sin(phi)*np.cos(psi) - np.cos(TT1D)*np.sin(AZ1D)*(np.sin(phi)*np.sin(psi)*np.cos(omega) - np.cos(phi)*np.sin(omega)))\n",
    "        # qy = (4*np.pi*np.sin(TT1D)/detInfo[9]) * (-np.sin(TT1D)*(np.cos(phi)*np.sin(psi)*np.sin(omega) - np.sin(phi)*np.cos(omega)) - np.cos(TT1D)*np.cos(AZ1D)*np.cos(phi)*np.cos(psi) + np.cos(TT1D)*np.sin(AZ1D)*(np.cos(phi)*np.sin(psi)*np.cos(omega) + np.sin(phi)*np.sin(omega)))\n",
    "        # qz = (4*np.pi*np.sin(TT1D)/detInfo[9]) * (np.sin(TT1D)*np.cos(psi)*np.sin(omega) - np.cos(TT1D)*np.sin(AZ1D)*np.cos(psi)*np.cos(omega) - np.cos(TT1D)*np.cos(AZ1D)*np.sin(psi))\n",
    "    #         qz = (4*np.pi*np.sin(TT1D)/detInfo[9]) * (np.sin(TT1D)*np.cos(psi)*np.sin(omega) - np.cos(TT1D)*np.sin(AZ1D)*np.cos(psi)*np.cos(omega) - np.cos(TT1D)*np.cos(AZ1D)*np.sin(psi))\n",
    "\n",
    "        # apply matrix rotation\n",
    "        # qxyz = np.concatenate((qx,qy,qz)).reshape(3,qx.size)\n",
    "        # qxyz = rotmatrix @ qxyz\n",
    "        \n",
    "        # BBposX = np.around((qxyz[0] - (qrangex[0])) / (qrangex[1]-qrangex[0]))\n",
    "        # BBposY = np.around((qxyz[1] - (qrangey[0])) / (qrangey[1]-qrangey[0]))\n",
    "        # BBposZ = np.around((qxyz[2] - (qrangez[0])) / (qrangez[1]-qrangez[0]))\n",
    "        \n",
    "        # t2 = time.perf_counter() - t1\n",
    "        # print(t2)\n",
    "\n",
    "        # move the variables required to the device\n",
    "        # d_omega = cuda.to_device(omega)\n",
    "        # d_phi = cuda.to_device(phi)\n",
    "        # d_psi = cuda.to_device(psi)\n",
    "#         d_i = cuda.to_device(i)\n",
    "        d_CI = cuda.to_device(pinned_CI)\n",
    "        # d_CI = cuda.to_device(CI)\n",
    "\n",
    "#         d_qmax = cuda.to_device(qmax)\n",
    "#         d_qrangex = cuda.to_device(qrangex)\n",
    "#         d_qrangey = cuda.to_device(qrangey)\n",
    "#         d_qrangez = cuda.to_device(qrangez)\n",
    "        # d_BBposX = cuda.to_device(BBposX)\n",
    "        # d_BBposY = cuda.to_device(BBposY)\n",
    "        # d_BBposZ = cuda.to_device(BBposZ)\n",
    "        # d_bigboxlooper = cuda.device_array_like(bigbox)\n",
    "        # d_numpixelslooper = cuda.device_array_like(numpixels)\n",
    "        \n",
    "        # t3 = time.perf_counter() - t2\n",
    "        # print('copying to device takes', t3)\n",
    "\n",
    "        # t4 = time.perf_counter()\n",
    "\n",
    "        looper[blocks,threads_per_block](detector_xdim, detector_ydim, bigbox_dims, omega, phi, psi, wavelength, qrangexstart, qrangexdelta, qrangeystart, qrangeydelta, qrangezstart, qrangezdelta, d_TT, d_AZ, d_CI, d_qx, d_qy, d_qz, d_BBposX, d_BBposY, d_BBposZ, d_bigboxlooper, d_numpixelslooper)\n",
    "        # t5 = time.perf_counter() - t4\n",
    "        # print('loop takes ', t5)\n",
    "        # bigboxlooper = d_bigboxlooper.copy_to_host()\n",
    "        # numpixelslooper = d_numpixelslooper.copy_to_host()\n",
    "        \n",
    "        # t6 = time.perf_counter() - t5\n",
    "        # print('copying to host takes ', t6)\n",
    "\n",
    "        # bigbox += bigboxlooper\n",
    "        # numpixels += numpixelslooper\n",
    "\n",
    "        # t7 = time.perf_counter() - t6\n",
    "        # print(t7)\n",
    "    \n",
    "    \n",
    "    bigbox = d_bigboxlooper.copy_to_host()\n",
    "    numpixels = d_numpixelslooper.copy_to_host()\n",
    "    # bigbox += bigboxlooper\n",
    "    # numpixels += numpixelslooper\n",
    "    #ignore dividing by inf or 0\n",
    "    np.seterr(divide='ignore', invalid='ignore')\n",
    "    bigbox /= numpixels\n",
    "    \n",
    "    return bigbox, numpixels"
   ]
  },
  {
   "cell_type": "code",
   "execution_count": 227,
   "metadata": {},
   "outputs": [],
   "source": [
    "@cuda.jit\n",
    "def looper(detector_xdim, detector_ydim, bigbox_dims, omega, phi, psi, wavelength, qrangexstart, qrangexdelta, qrangeystart, qrangeydelta, qrangezstart, qrangezdelta, TT, AZ, CI, qx, qy, qz, BBposX, BBposY, BBposZ, bigboxlooper, numpixelslooper):\n",
    "    grid_row, grid_col = cuda.grid(2)\n",
    "    stride_row, stride_col = cuda.gridsize(2)\n",
    "    \n",
    "    for data_row in range(grid_row,detector_xdim,stride_row):\n",
    "        for data_col in range(grid_col,detector_ydim,stride_col):\n",
    "\n",
    "            qx[data_row][data_col] = (4*math.pi*math.sin(TT[data_row][data_col])/wavelength) * (math.sin(TT[data_row][data_col])*(math.sin(phi)*math.sin(psi)*math.sin(omega) + math.cos(phi)*math.cos(omega)) + math.cos(TT[data_row][data_col])*math.cos(AZ[data_row][data_col])*math.sin(phi)*math.cos(psi) - math.cos(TT[data_row][data_col])*math.sin(AZ[data_row][data_col])*(math.sin(phi)*math.sin(psi)*math.cos(omega) - math.cos(phi)*math.sin(omega)))\n",
    "            qy[data_row][data_col] = (4*math.pi*math.sin(TT[data_row][data_col])/wavelength) * (-math.sin(TT[data_row][data_col])*(math.cos(phi)*math.sin(psi)*math.sin(omega) - math.sin(phi)*math.cos(omega)) - math.cos(TT[data_row][data_col])*math.cos(AZ[data_row][data_col])*math.cos(phi)*math.cos(psi) + math.cos(TT[data_row][data_col])*math.sin(AZ[data_row][data_col])*(math.cos(phi)*math.sin(psi)*math.cos(omega) + math.sin(phi)*math.sin(omega)))\n",
    "            qz[data_row][data_col] = (4*math.pi*math.sin(TT[data_row][data_col])/wavelength) * (math.sin(TT[data_row][data_col])*math.cos(psi)*math.sin(omega) - math.cos(TT[data_row][data_col])*math.sin(AZ[data_row][data_col])*math.cos(psi)*math.cos(omega) - math.cos(TT[data_row][data_col])*math.cos(AZ[data_row][data_col])*math.sin(psi))\n",
    "\n",
    "            BBposX[data_row][data_col] = round((qx[data_row][data_col] - (qrangexstart)) / (qrangexdelta-qrangexstart))\n",
    "            BBposY[data_row][data_col] = round((qy[data_row][data_col] - (qrangeystart)) / (qrangeydelta-qrangeystart))\n",
    "            BBposZ[data_row][data_col] = round((qz[data_row][data_col] - (qrangezstart)) / (qrangezdelta-qrangezstart))\n",
    "        \n",
    "            if(0 <= BBposX[data_row][data_col] and 0 <= BBposY[data_row][data_col] and 0 <= BBposZ[data_row][data_col] and BBposX[data_row][data_col] < bigbox_dims and BBposY[data_row][data_col] < bigbox_dims and BBposZ[data_row][data_col] < bigbox_dims ):\n",
    "                cuda.atomic.add(bigboxlooper, (BBposX[data_row][data_col], BBposY[data_row][data_col], BBposZ[data_row][data_col]), CI[data_row][data_col])\n",
    "                cuda.atomic.add(numpixelslooper, (BBposX[data_row][data_col], BBposY[data_row][data_col], BBposZ[data_row][data_col]), 1)\n",
    "\n",
    "                \n",
    "                    # if(np.isfinite(CI[j])):\n",
    "\n",
    "    "
   ]
  },
  {
   "cell_type": "code",
   "execution_count": 228,
   "metadata": {},
   "outputs": [],
   "source": [
    "# @jit(nopython=True,parallel=True)\n",
    "# # @jit(nopython=True)\n",
    "# def looper(row,CI,TT1D,AZ1D,qmax,qrangex,qrangey,qrangez,BBposX,BBposY,BBposZ):\n",
    "    \n",
    "#     bigboxloop = np.zeros((boxsize,boxsize,boxsize),dtype=np.float32)\n",
    "#     numpixelsloop = np.zeros((boxsize,boxsize,boxsize),dtype=np.uint32)\n",
    "    \n",
    "#     omega = omegaPos[row]*np.pi/180\n",
    "#     phi = phiPos[row]*np.pi/180\n",
    "#     psi = psiPos[row]*np.pi/180\n",
    "\n",
    "#     qx = (4*np.pi*np.sin(TT1D)/detInfo[9]) * (np.sin(TT1D)*(np.sin(phi)*np.sin(psi)*np.sin(omega) + np.cos(phi)*np.cos(omega)) + np.cos(TT1D)*np.cos(AZ1D)*np.sin(phi)*np.cos(psi) - np.cos(TT1D)*np.sin(AZ1D)*(np.sin(phi)*np.sin(psi)*np.cos(omega) - np.cos(phi)*np.sin(omega)))\n",
    "#     qy = (4*np.pi*np.sin(TT1D)/detInfo[9]) * (-np.sin(TT1D)*(np.cos(phi)*np.sin(psi)*np.sin(omega) - np.sin(phi)*np.cos(omega)) - np.cos(TT1D)*np.cos(AZ1D)*np.cos(phi)*np.cos(psi) + np.cos(TT1D)*np.sin(AZ1D)*(np.cos(phi)*np.sin(psi)*np.cos(omega) + np.sin(phi)*np.sin(omega)))\n",
    "#     qz = (4*np.pi*np.sin(TT1D)/detInfo[9]) * (np.sin(TT1D)*np.cos(psi)*np.sin(omega) - np.cos(TT1D)*np.sin(AZ1D)*np.cos(psi)*np.cos(omega) - np.cos(TT1D)*np.cos(AZ1D)*np.sin(psi))\n",
    "# #         qz = (4*np.pi*np.sin(TT1D)/detInfo[9]) * (np.sin(TT1D)*np.cos(psi)*np.sin(omega) - np.cos(TT1D)*np.sin(AZ1D)*np.cos(psi)*np.cos(omega) - np.cos(TT1D)*np.cos(AZ1D)*np.sin(psi))\n",
    "    \n",
    "#     # apply matrix rotation\n",
    "#     qxyz = np.concatenate((qx,qy,qz)).reshape(3,qx.size)\n",
    "#     qxyz = rotmatrix @ qxyz\n",
    "\n",
    "#     np.round((qxyz[0] - (qrangex[0])) / (qrangex[1]-qrangex[0]),0,BBposX).astype(np.int64)\n",
    "#     np.round((qxyz[1] - (qrangey[0])) / (qrangey[1]-qrangey[0]),0,BBposY).astype(np.int64)\n",
    "#     np.round((qxyz[2] - (qrangez[0])) / (qrangez[1]-qrangez[0]),0,BBposZ).astype(np.int64)\n",
    "    \n",
    "#     for j in range(CI.size):\n",
    "#         if(0 <= BBposX[j] and 0 <= BBposY[j] and 0 <= BBposZ[j] and BBposX[j] < bigboxloop.shape[0] and BBposY[j] < bigboxloop.shape[1] and BBposZ[j] < bigboxloop.shape[2] ):\n",
    "# #         if(0 > BBposX[j] or 0 > BBposY[j] or 0 > BBposZ[j] or BBposX[j] > bigboxloop.shape[0] or BBposY[j] > bigboxloop.shape[1] or BBposZ[j] > bigboxloop.shape[2] ):\n",
    "            \n",
    "#             if(np.isfinite(CI[j])):\n",
    "#                 bigboxloop[BBposX[j],BBposY[j],BBposZ[j]] += CI[j]\n",
    "#                 numpixelsloop[BBposX[j],BBposY[j],BBposZ[j]] += 1 \n",
    "#                 cuda.atomic.add(global_counter, 0, 1)\n",
    "    \n",
    "# #     return bigboxloop,numpixelsloop"
   ]
  },
  {
   "cell_type": "code",
   "execution_count": 229,
   "metadata": {
    "tags": []
   },
   "outputs": [
    {
     "output_type": "stream",
     "name": "stderr",
     "text": "ERROR:numba.cuda.cudadrv.driver:Call to cuMemAlloc results in CUDA_ERROR_LAUNCH_FAILED\n"
    },
    {
     "output_type": "error",
     "ename": "CudaAPIError",
     "evalue": "[719] Call to cuMemAlloc results in CUDA_ERROR_LAUNCH_FAILED",
     "traceback": [
      "\u001b[1;31m---------------------------------------------------------------------------\u001b[0m",
      "\u001b[1;31mCudaAPIError\u001b[0m                              Traceback (most recent call last)",
      "\u001b[1;32m<ipython-input-229-5027d1168d37>\u001b[0m in \u001b[0;36m<module>\u001b[1;34m\u001b[0m\n\u001b[0;32m      4\u001b[0m \u001b[1;33m\u001b[0m\u001b[0m\n\u001b[0;32m      5\u001b[0m \u001b[0mstartTime\u001b[0m \u001b[1;33m=\u001b[0m \u001b[0mdatetime\u001b[0m\u001b[1;33m.\u001b[0m\u001b[0mnow\u001b[0m\u001b[1;33m(\u001b[0m\u001b[1;33m)\u001b[0m\u001b[1;33m\u001b[0m\u001b[1;33m\u001b[0m\u001b[0m\n\u001b[1;32m----> 6\u001b[1;33m \u001b[0mbox\u001b[0m\u001b[1;33m,\u001b[0m\u001b[0mnum\u001b[0m \u001b[1;33m=\u001b[0m \u001b[0mDiffuseReconstruction\u001b[0m\u001b[1;33m(\u001b[0m\u001b[1;36m10\u001b[0m\u001b[1;33m)\u001b[0m\u001b[1;33m\u001b[0m\u001b[1;33m\u001b[0m\u001b[0m\n\u001b[0m\u001b[0;32m      7\u001b[0m \u001b[0mprint\u001b[0m\u001b[1;33m(\u001b[0m\u001b[0mdatetime\u001b[0m\u001b[1;33m.\u001b[0m\u001b[0mnow\u001b[0m\u001b[1;33m(\u001b[0m\u001b[1;33m)\u001b[0m \u001b[1;33m-\u001b[0m \u001b[0mstartTime\u001b[0m\u001b[1;33m)\u001b[0m\u001b[1;33m\u001b[0m\u001b[1;33m\u001b[0m\u001b[0m\n",
      "\u001b[1;32m<ipython-input-226-f0f09c3af36e>\u001b[0m in \u001b[0;36mDiffuseReconstruction\u001b[1;34m(fileNum)\u001b[0m\n\u001b[0;32m     29\u001b[0m \u001b[1;33m\u001b[0m\u001b[0m\n\u001b[0;32m     30\u001b[0m     \u001b[1;31m# Make/copy arrays to gpu device\u001b[0m\u001b[1;33m\u001b[0m\u001b[1;33m\u001b[0m\u001b[1;33m\u001b[0m\u001b[0m\n\u001b[1;32m---> 31\u001b[1;33m     \u001b[0md_TT\u001b[0m \u001b[1;33m=\u001b[0m \u001b[0mcuda\u001b[0m\u001b[1;33m.\u001b[0m\u001b[0mto_device\u001b[0m\u001b[1;33m(\u001b[0m\u001b[0mTT\u001b[0m\u001b[1;33m)\u001b[0m\u001b[1;33m\u001b[0m\u001b[1;33m\u001b[0m\u001b[0m\n\u001b[0m\u001b[0;32m     32\u001b[0m     \u001b[0md_AZ\u001b[0m \u001b[1;33m=\u001b[0m \u001b[0mcuda\u001b[0m\u001b[1;33m.\u001b[0m\u001b[0mto_device\u001b[0m\u001b[1;33m(\u001b[0m\u001b[0mAZ\u001b[0m\u001b[1;33m)\u001b[0m\u001b[1;33m\u001b[0m\u001b[1;33m\u001b[0m\u001b[0m\n\u001b[0;32m     33\u001b[0m     \u001b[0md_qx\u001b[0m \u001b[1;33m=\u001b[0m \u001b[0mcuda\u001b[0m\u001b[1;33m.\u001b[0m\u001b[0mdevice_array_like\u001b[0m\u001b[1;33m(\u001b[0m\u001b[0md_TT\u001b[0m\u001b[1;33m)\u001b[0m\u001b[1;33m\u001b[0m\u001b[1;33m\u001b[0m\u001b[0m\n",
      "\u001b[1;32m~\\anaconda3\\lib\\site-packages\\numba\\cuda\\cudadrv\\devices.py\u001b[0m in \u001b[0;36m_require_cuda_context\u001b[1;34m(*args, **kws)\u001b[0m\n\u001b[0;32m    223\u001b[0m     \u001b[1;32mdef\u001b[0m \u001b[0m_require_cuda_context\u001b[0m\u001b[1;33m(\u001b[0m\u001b[1;33m*\u001b[0m\u001b[0margs\u001b[0m\u001b[1;33m,\u001b[0m \u001b[1;33m**\u001b[0m\u001b[0mkws\u001b[0m\u001b[1;33m)\u001b[0m\u001b[1;33m:\u001b[0m\u001b[1;33m\u001b[0m\u001b[1;33m\u001b[0m\u001b[0m\n\u001b[0;32m    224\u001b[0m         \u001b[1;32mwith\u001b[0m \u001b[0m_runtime\u001b[0m\u001b[1;33m.\u001b[0m\u001b[0mensure_context\u001b[0m\u001b[1;33m(\u001b[0m\u001b[1;33m)\u001b[0m\u001b[1;33m:\u001b[0m\u001b[1;33m\u001b[0m\u001b[1;33m\u001b[0m\u001b[0m\n\u001b[1;32m--> 225\u001b[1;33m             \u001b[1;32mreturn\u001b[0m \u001b[0mfn\u001b[0m\u001b[1;33m(\u001b[0m\u001b[1;33m*\u001b[0m\u001b[0margs\u001b[0m\u001b[1;33m,\u001b[0m \u001b[1;33m**\u001b[0m\u001b[0mkws\u001b[0m\u001b[1;33m)\u001b[0m\u001b[1;33m\u001b[0m\u001b[1;33m\u001b[0m\u001b[0m\n\u001b[0m\u001b[0;32m    226\u001b[0m \u001b[1;33m\u001b[0m\u001b[0m\n\u001b[0;32m    227\u001b[0m     \u001b[1;32mreturn\u001b[0m \u001b[0m_require_cuda_context\u001b[0m\u001b[1;33m\u001b[0m\u001b[1;33m\u001b[0m\u001b[0m\n",
      "\u001b[1;32m~\\anaconda3\\lib\\site-packages\\numba\\cuda\\api.py\u001b[0m in \u001b[0;36mto_device\u001b[1;34m(obj, stream, copy, to)\u001b[0m\n\u001b[0;32m    109\u001b[0m     \"\"\"\n\u001b[0;32m    110\u001b[0m     \u001b[1;32mif\u001b[0m \u001b[0mto\u001b[0m \u001b[1;32mis\u001b[0m \u001b[1;32mNone\u001b[0m\u001b[1;33m:\u001b[0m\u001b[1;33m\u001b[0m\u001b[1;33m\u001b[0m\u001b[0m\n\u001b[1;32m--> 111\u001b[1;33m         \u001b[0mto\u001b[0m\u001b[1;33m,\u001b[0m \u001b[0mnew\u001b[0m \u001b[1;33m=\u001b[0m \u001b[0mdevicearray\u001b[0m\u001b[1;33m.\u001b[0m\u001b[0mauto_device\u001b[0m\u001b[1;33m(\u001b[0m\u001b[0mobj\u001b[0m\u001b[1;33m,\u001b[0m \u001b[0mstream\u001b[0m\u001b[1;33m=\u001b[0m\u001b[0mstream\u001b[0m\u001b[1;33m,\u001b[0m \u001b[0mcopy\u001b[0m\u001b[1;33m=\u001b[0m\u001b[0mcopy\u001b[0m\u001b[1;33m)\u001b[0m\u001b[1;33m\u001b[0m\u001b[1;33m\u001b[0m\u001b[0m\n\u001b[0m\u001b[0;32m    112\u001b[0m         \u001b[1;32mreturn\u001b[0m \u001b[0mto\u001b[0m\u001b[1;33m\u001b[0m\u001b[1;33m\u001b[0m\u001b[0m\n\u001b[0;32m    113\u001b[0m     \u001b[1;32mif\u001b[0m \u001b[0mcopy\u001b[0m\u001b[1;33m:\u001b[0m\u001b[1;33m\u001b[0m\u001b[1;33m\u001b[0m\u001b[0m\n",
      "\u001b[1;32m~\\anaconda3\\lib\\site-packages\\numba\\cuda\\cudadrv\\devicearray.py\u001b[0m in \u001b[0;36mauto_device\u001b[1;34m(obj, stream, copy)\u001b[0m\n\u001b[0;32m    724\u001b[0m                 subok=True)\n\u001b[0;32m    725\u001b[0m             \u001b[0msentry_contiguous\u001b[0m\u001b[1;33m(\u001b[0m\u001b[0mobj\u001b[0m\u001b[1;33m)\u001b[0m\u001b[1;33m\u001b[0m\u001b[1;33m\u001b[0m\u001b[0m\n\u001b[1;32m--> 726\u001b[1;33m             \u001b[0mdevobj\u001b[0m \u001b[1;33m=\u001b[0m \u001b[0mfrom_array_like\u001b[0m\u001b[1;33m(\u001b[0m\u001b[0mobj\u001b[0m\u001b[1;33m,\u001b[0m \u001b[0mstream\u001b[0m\u001b[1;33m=\u001b[0m\u001b[0mstream\u001b[0m\u001b[1;33m)\u001b[0m\u001b[1;33m\u001b[0m\u001b[1;33m\u001b[0m\u001b[0m\n\u001b[0m\u001b[0;32m    727\u001b[0m         \u001b[1;32mif\u001b[0m \u001b[0mcopy\u001b[0m\u001b[1;33m:\u001b[0m\u001b[1;33m\u001b[0m\u001b[1;33m\u001b[0m\u001b[0m\n\u001b[0;32m    728\u001b[0m             \u001b[0mdevobj\u001b[0m\u001b[1;33m.\u001b[0m\u001b[0mcopy_to_device\u001b[0m\u001b[1;33m(\u001b[0m\u001b[0mobj\u001b[0m\u001b[1;33m,\u001b[0m \u001b[0mstream\u001b[0m\u001b[1;33m=\u001b[0m\u001b[0mstream\u001b[0m\u001b[1;33m)\u001b[0m\u001b[1;33m\u001b[0m\u001b[1;33m\u001b[0m\u001b[0m\n",
      "\u001b[1;32m~\\anaconda3\\lib\\site-packages\\numba\\cuda\\cudadrv\\devicearray.py\u001b[0m in \u001b[0;36mfrom_array_like\u001b[1;34m(ary, stream, gpu_data)\u001b[0m\n\u001b[0;32m    662\u001b[0m         \u001b[0mary\u001b[0m \u001b[1;33m=\u001b[0m \u001b[0mary\u001b[0m\u001b[1;33m.\u001b[0m\u001b[0mreshape\u001b[0m\u001b[1;33m(\u001b[0m\u001b[1;36m1\u001b[0m\u001b[1;33m)\u001b[0m\u001b[1;33m\u001b[0m\u001b[1;33m\u001b[0m\u001b[0m\n\u001b[0;32m    663\u001b[0m     return DeviceNDArray(ary.shape, ary.strides, ary.dtype,\n\u001b[1;32m--> 664\u001b[1;33m                          writeback=ary, stream=stream, gpu_data=gpu_data)\n\u001b[0m\u001b[0;32m    665\u001b[0m \u001b[1;33m\u001b[0m\u001b[0m\n\u001b[0;32m    666\u001b[0m \u001b[1;33m\u001b[0m\u001b[0m\n",
      "\u001b[1;32m~\\anaconda3\\lib\\site-packages\\numba\\cuda\\cudadrv\\devicearray.py\u001b[0m in \u001b[0;36m__init__\u001b[1;34m(self, shape, strides, dtype, stream, writeback, gpu_data)\u001b[0m\n\u001b[0;32m    101\u001b[0m                                                                 \u001b[0mself\u001b[0m\u001b[1;33m.\u001b[0m\u001b[0mstrides\u001b[0m\u001b[1;33m,\u001b[0m\u001b[1;33m\u001b[0m\u001b[1;33m\u001b[0m\u001b[0m\n\u001b[0;32m    102\u001b[0m                                                                 self.dtype.itemsize)\n\u001b[1;32m--> 103\u001b[1;33m                 \u001b[0mgpu_data\u001b[0m \u001b[1;33m=\u001b[0m \u001b[0mdevices\u001b[0m\u001b[1;33m.\u001b[0m\u001b[0mget_context\u001b[0m\u001b[1;33m(\u001b[0m\u001b[1;33m)\u001b[0m\u001b[1;33m.\u001b[0m\u001b[0mmemalloc\u001b[0m\u001b[1;33m(\u001b[0m\u001b[0mself\u001b[0m\u001b[1;33m.\u001b[0m\u001b[0malloc_size\u001b[0m\u001b[1;33m)\u001b[0m\u001b[1;33m\u001b[0m\u001b[1;33m\u001b[0m\u001b[0m\n\u001b[0m\u001b[0;32m    104\u001b[0m             \u001b[1;32melse\u001b[0m\u001b[1;33m:\u001b[0m\u001b[1;33m\u001b[0m\u001b[1;33m\u001b[0m\u001b[0m\n\u001b[0;32m    105\u001b[0m                 \u001b[0mself\u001b[0m\u001b[1;33m.\u001b[0m\u001b[0malloc_size\u001b[0m \u001b[1;33m=\u001b[0m \u001b[0m_driver\u001b[0m\u001b[1;33m.\u001b[0m\u001b[0mdevice_memory_size\u001b[0m\u001b[1;33m(\u001b[0m\u001b[0mgpu_data\u001b[0m\u001b[1;33m)\u001b[0m\u001b[1;33m\u001b[0m\u001b[1;33m\u001b[0m\u001b[0m\n",
      "\u001b[1;32m~\\anaconda3\\lib\\site-packages\\numba\\cuda\\cudadrv\\driver.py\u001b[0m in \u001b[0;36mmemalloc\u001b[1;34m(self, bytesize)\u001b[0m\n\u001b[0;32m    759\u001b[0m             \u001b[0mdriver\u001b[0m\u001b[1;33m.\u001b[0m\u001b[0mcuMemAlloc\u001b[0m\u001b[1;33m(\u001b[0m\u001b[0mbyref\u001b[0m\u001b[1;33m(\u001b[0m\u001b[0mptr\u001b[0m\u001b[1;33m)\u001b[0m\u001b[1;33m,\u001b[0m \u001b[0mbytesize\u001b[0m\u001b[1;33m)\u001b[0m\u001b[1;33m\u001b[0m\u001b[1;33m\u001b[0m\u001b[0m\n\u001b[0;32m    760\u001b[0m \u001b[1;33m\u001b[0m\u001b[0m\n\u001b[1;32m--> 761\u001b[1;33m         \u001b[0mself\u001b[0m\u001b[1;33m.\u001b[0m\u001b[0m_attempt_allocation\u001b[0m\u001b[1;33m(\u001b[0m\u001b[0mallocator\u001b[0m\u001b[1;33m)\u001b[0m\u001b[1;33m\u001b[0m\u001b[1;33m\u001b[0m\u001b[0m\n\u001b[0m\u001b[0;32m    762\u001b[0m \u001b[1;33m\u001b[0m\u001b[0m\n\u001b[0;32m    763\u001b[0m         \u001b[0mfinalizer\u001b[0m \u001b[1;33m=\u001b[0m \u001b[0m_alloc_finalizer\u001b[0m\u001b[1;33m(\u001b[0m\u001b[0mself\u001b[0m\u001b[1;33m,\u001b[0m \u001b[0mptr\u001b[0m\u001b[1;33m,\u001b[0m \u001b[0mbytesize\u001b[0m\u001b[1;33m)\u001b[0m\u001b[1;33m\u001b[0m\u001b[1;33m\u001b[0m\u001b[0m\n",
      "\u001b[1;32m~\\anaconda3\\lib\\site-packages\\numba\\cuda\\cudadrv\\driver.py\u001b[0m in \u001b[0;36m_attempt_allocation\u001b[1;34m(self, allocator)\u001b[0m\n\u001b[0;32m    742\u001b[0m         \"\"\"\n\u001b[0;32m    743\u001b[0m         \u001b[1;32mtry\u001b[0m\u001b[1;33m:\u001b[0m\u001b[1;33m\u001b[0m\u001b[1;33m\u001b[0m\u001b[0m\n\u001b[1;32m--> 744\u001b[1;33m             \u001b[0mallocator\u001b[0m\u001b[1;33m(\u001b[0m\u001b[1;33m)\u001b[0m\u001b[1;33m\u001b[0m\u001b[1;33m\u001b[0m\u001b[0m\n\u001b[0m\u001b[0;32m    745\u001b[0m         \u001b[1;32mexcept\u001b[0m \u001b[0mCudaAPIError\u001b[0m \u001b[1;32mas\u001b[0m \u001b[0me\u001b[0m\u001b[1;33m:\u001b[0m\u001b[1;33m\u001b[0m\u001b[1;33m\u001b[0m\u001b[0m\n\u001b[0;32m    746\u001b[0m             \u001b[1;31m# is out-of-memory?\u001b[0m\u001b[1;33m\u001b[0m\u001b[1;33m\u001b[0m\u001b[1;33m\u001b[0m\u001b[0m\n",
      "\u001b[1;32m~\\anaconda3\\lib\\site-packages\\numba\\cuda\\cudadrv\\driver.py\u001b[0m in \u001b[0;36mallocator\u001b[1;34m()\u001b[0m\n\u001b[0;32m    757\u001b[0m \u001b[1;33m\u001b[0m\u001b[0m\n\u001b[0;32m    758\u001b[0m         \u001b[1;32mdef\u001b[0m \u001b[0mallocator\u001b[0m\u001b[1;33m(\u001b[0m\u001b[1;33m)\u001b[0m\u001b[1;33m:\u001b[0m\u001b[1;33m\u001b[0m\u001b[1;33m\u001b[0m\u001b[0m\n\u001b[1;32m--> 759\u001b[1;33m             \u001b[0mdriver\u001b[0m\u001b[1;33m.\u001b[0m\u001b[0mcuMemAlloc\u001b[0m\u001b[1;33m(\u001b[0m\u001b[0mbyref\u001b[0m\u001b[1;33m(\u001b[0m\u001b[0mptr\u001b[0m\u001b[1;33m)\u001b[0m\u001b[1;33m,\u001b[0m \u001b[0mbytesize\u001b[0m\u001b[1;33m)\u001b[0m\u001b[1;33m\u001b[0m\u001b[1;33m\u001b[0m\u001b[0m\n\u001b[0m\u001b[0;32m    760\u001b[0m \u001b[1;33m\u001b[0m\u001b[0m\n\u001b[0;32m    761\u001b[0m         \u001b[0mself\u001b[0m\u001b[1;33m.\u001b[0m\u001b[0m_attempt_allocation\u001b[0m\u001b[1;33m(\u001b[0m\u001b[0mallocator\u001b[0m\u001b[1;33m)\u001b[0m\u001b[1;33m\u001b[0m\u001b[1;33m\u001b[0m\u001b[0m\n",
      "\u001b[1;32m~\\anaconda3\\lib\\site-packages\\numba\\cuda\\cudadrv\\driver.py\u001b[0m in \u001b[0;36msafe_cuda_api_call\u001b[1;34m(*args)\u001b[0m\n\u001b[0;32m    292\u001b[0m             \u001b[0m_logger\u001b[0m\u001b[1;33m.\u001b[0m\u001b[0mdebug\u001b[0m\u001b[1;33m(\u001b[0m\u001b[1;34m'call driver api: %s'\u001b[0m\u001b[1;33m,\u001b[0m \u001b[0mlibfn\u001b[0m\u001b[1;33m.\u001b[0m\u001b[0m__name__\u001b[0m\u001b[1;33m)\u001b[0m\u001b[1;33m\u001b[0m\u001b[1;33m\u001b[0m\u001b[0m\n\u001b[0;32m    293\u001b[0m             \u001b[0mretcode\u001b[0m \u001b[1;33m=\u001b[0m \u001b[0mlibfn\u001b[0m\u001b[1;33m(\u001b[0m\u001b[1;33m*\u001b[0m\u001b[0margs\u001b[0m\u001b[1;33m)\u001b[0m\u001b[1;33m\u001b[0m\u001b[1;33m\u001b[0m\u001b[0m\n\u001b[1;32m--> 294\u001b[1;33m             \u001b[0mself\u001b[0m\u001b[1;33m.\u001b[0m\u001b[0m_check_error\u001b[0m\u001b[1;33m(\u001b[0m\u001b[0mfname\u001b[0m\u001b[1;33m,\u001b[0m \u001b[0mretcode\u001b[0m\u001b[1;33m)\u001b[0m\u001b[1;33m\u001b[0m\u001b[1;33m\u001b[0m\u001b[0m\n\u001b[0m\u001b[0;32m    295\u001b[0m         \u001b[1;32mreturn\u001b[0m \u001b[0msafe_cuda_api_call\u001b[0m\u001b[1;33m\u001b[0m\u001b[1;33m\u001b[0m\u001b[0m\n\u001b[0;32m    296\u001b[0m \u001b[1;33m\u001b[0m\u001b[0m\n",
      "\u001b[1;32m~\\anaconda3\\lib\\site-packages\\numba\\cuda\\cudadrv\\driver.py\u001b[0m in \u001b[0;36m_check_error\u001b[1;34m(self, fname, retcode)\u001b[0m\n\u001b[0;32m    327\u001b[0m                     \u001b[0m_logger\u001b[0m\u001b[1;33m.\u001b[0m\u001b[0mcritical\u001b[0m\u001b[1;33m(\u001b[0m\u001b[0mmsg\u001b[0m\u001b[1;33m,\u001b[0m \u001b[0m_getpid\u001b[0m\u001b[1;33m(\u001b[0m\u001b[1;33m)\u001b[0m\u001b[1;33m,\u001b[0m \u001b[0mself\u001b[0m\u001b[1;33m.\u001b[0m\u001b[0mpid\u001b[0m\u001b[1;33m)\u001b[0m\u001b[1;33m\u001b[0m\u001b[1;33m\u001b[0m\u001b[0m\n\u001b[0;32m    328\u001b[0m                     \u001b[1;32mraise\u001b[0m \u001b[0mCudaDriverError\u001b[0m\u001b[1;33m(\u001b[0m\u001b[1;34m\"CUDA initialized before forking\"\u001b[0m\u001b[1;33m)\u001b[0m\u001b[1;33m\u001b[0m\u001b[1;33m\u001b[0m\u001b[0m\n\u001b[1;32m--> 329\u001b[1;33m             \u001b[1;32mraise\u001b[0m \u001b[0mCudaAPIError\u001b[0m\u001b[1;33m(\u001b[0m\u001b[0mretcode\u001b[0m\u001b[1;33m,\u001b[0m \u001b[0mmsg\u001b[0m\u001b[1;33m)\u001b[0m\u001b[1;33m\u001b[0m\u001b[1;33m\u001b[0m\u001b[0m\n\u001b[0m\u001b[0;32m    330\u001b[0m \u001b[1;33m\u001b[0m\u001b[0m\n\u001b[0;32m    331\u001b[0m     \u001b[1;32mdef\u001b[0m \u001b[0mget_device\u001b[0m\u001b[1;33m(\u001b[0m\u001b[0mself\u001b[0m\u001b[1;33m,\u001b[0m \u001b[0mdevnum\u001b[0m\u001b[1;33m=\u001b[0m\u001b[1;36m0\u001b[0m\u001b[1;33m)\u001b[0m\u001b[1;33m:\u001b[0m\u001b[1;33m\u001b[0m\u001b[1;33m\u001b[0m\u001b[0m\n",
      "\u001b[1;31mCudaAPIError\u001b[0m: [719] Call to cuMemAlloc results in CUDA_ERROR_LAUNCH_FAILED"
     ]
    }
   ],
   "source": [
    "import gc\n",
    "#garbage collector\n",
    "gc.collect()\n",
    "\n",
    "startTime = datetime.now()\n",
    "box,num = DiffuseReconstruction(10)\n",
    "print(datetime.now() - startTime)"
   ]
  },
  {
   "cell_type": "code",
   "execution_count": 216,
   "metadata": {},
   "outputs": [],
   "source": [
    "from matplotlib import pyplot       # Load matplotlib\n",
    "%matplotlib qt \n",
    "pyplot.imshow(box[:, :, 250]) \n",
    "pyplot.show() \n"
   ]
  },
  {
   "cell_type": "code",
   "execution_count": 26,
   "metadata": {},
   "outputs": [
    {
     "output_type": "execute_result",
     "data": {
      "text/plain": "nan"
     },
     "metadata": {},
     "execution_count": 26
    }
   ],
   "source": [
    "box[250, 250, 260]"
   ]
  },
  {
   "cell_type": "code",
   "execution_count": 7,
   "metadata": {},
   "outputs": [],
   "source": [
    "import winsound\n",
    "winsound.Beep(300, 750)"
   ]
  },
  {
   "cell_type": "code",
   "execution_count": 27,
   "metadata": {
    "tags": []
   },
   "outputs": [
    {
     "output_type": "stream",
     "text": "Timer unit: 1e-07 s"
    }
   ],
   "source": [
    "%reload_ext line_profiler\n",
    "\n",
    "%lprun -f looper"
   ]
  },
  {
   "cell_type": "code",
   "execution_count": 28,
   "metadata": {
    "tags": [
     "outputPrepend"
    ]
   },
   "outputs": [
    {
     "output_type": "stream",
     "name": "stdout",
     "text": "_datetime_dtype)\n       60    0.000    0.000    0.000    0.000 driver.py:1794(_workaround_for_datetime)\n       60    0.000    0.000    0.001    0.000 driver.py:1802(host_pointer)\n       60    0.000    0.000    0.000    0.000 driver.py:1827(memory_size_from_info)\n      120    0.000    0.000    0.001    0.000 driver.py:1844(device_pointer)\n      120    0.000    0.000    0.001    0.000 driver.py:1849(device_ctypes_pointer)\n      780    0.000    0.000    0.001    0.000 driver.py:1857(is_device_memory)\n      120    0.000    0.000    0.000    0.000 driver.py:1868(require_device_memory)\n       40    0.000    0.000    0.261    0.007 driver.py:1885(host_to_device)\n       20    0.000    0.000    4.580    0.229 driver.py:1903(device_to_host)\n      390    6.593    0.017    6.594    0.017 driver.py:290(safe_cuda_api_call)\n      390    0.001    0.000    0.001    0.000 driver.py:318(_check_error)\n      300    0.000    0.000    0.000    0.000 driver.py:364(get_active_context)\n      300    0.001    0.000    0.004    0.000 driver.py:379(__enter__)\n      300    0.000    0.000    0.000    0.000 driver.py:405(__exit__)\n      100    0.000    0.000    0.000    0.000 driver.py:409(__bool__)\n      100    0.000    0.000    0.000    0.000 driver.py:516(get_primary_context)\n       60    0.000    0.000    0.000    0.000 driver.py:581(_max_pending_bytes)\n       60    0.001    0.000    0.303    0.005 driver.py:585(add_item)\n       10    0.001    0.000    0.302    0.030 driver.py:601(clear)\n       10    0.000    0.000    0.000    0.000 driver.py:626(is_disabled)\n      100    0.000    0.000    0.000    0.000 driver.py:714(prepare_for_use)\n       60    0.000    0.000    1.452    0.024 driver.py:737(_attempt_allocation)\n       60    0.001    0.000    1.456    0.024 driver.py:755(memalloc)\n       60    0.000    0.000    1.452    0.024 driver.py:758(allocator)\n       60    0.000    0.000    0.000    0.000 driver.py:960(_alloc_finalizer)\n       60    0.000    0.000    0.303    0.005 driver.py:964(core)\n      600    0.000    0.000    0.000    0.000 dummyarray.py:107(is_contiguous)\n      600    0.001    0.000    0.002    0.000 dummyarray.py:111(compute_index)\n     1280    0.000    0.000    0.001    0.000 dummyarray.py:112(<genexpr>)\n      220    0.001    0.000    0.006    0.000 dummyarray.py:151(from_desc)\n      300    0.002    0.000    0.007    0.000 dummyarray.py:161(__init__)\n      640    0.000    0.000    0.000    0.000 dummyarray.py:164(<genexpr>)\n      640    0.000    0.000    0.000    0.000 dummyarray.py:165(<genexpr>)\n      300    0.001    0.000    0.001    0.000 dummyarray.py:171(_compute_layout)\n      580    0.000    0.000    0.000    0.000 dummyarray.py:183(is_contig)\n      300    0.001    0.000    0.003    0.000 dummyarray.py:195(_compute_extent)\n      300    0.000    0.000    0.000    0.000 dummyarray.py:197(<listcomp>)\n       80    0.001    0.000    0.004    0.000 dummyarray.py:206(__getitem__)\n       80    0.000    0.000    0.001    0.000 dummyarray.py:221(<listcomp>)\n       80    0.000    0.000    0.000    0.000 dummyarray.py:222(<listcomp>)\n      120    0.000    0.000    0.000    0.000 dummyarray.py:230(is_c_contig)\n      240    0.000    0.000    0.000    0.000 dummyarray.py:238(iter_contiguous_extent)\n       80    0.000    0.000    0.000    0.000 dummyarray.py:264(reshape)\n       40    0.000    0.000    0.001    0.000 dummyarray.py:318(squeeze)\n       80    0.000    0.000    0.000    0.000 dummyarray.py:409(_compute_size)\n      340    0.000    0.000    0.000    0.000 dummyarray.py:45(__init__)\n       80    0.000    0.000    0.001    0.000 dummyarray.py:53(__getitem__)\n      680    0.000    0.000    0.000    0.000 dummyarray.py:83(get_offset)\n       10    0.000    0.000    0.003    0.000 edfimage.py:1075(_readheader)\n       10    0.000    0.000    0.006    0.001 edfimage.py:1174(read)\n       50    0.000    0.000    0.000    0.000 edfimage.py:1378(_get_any_frame)\n       10    0.000    0.000    0.000    0.000 edfimage.py:1417(header)\n       10    0.000    0.000    0.000    0.000 edfimage.py:1422(header)\n       20    0.000    0.000    0.196    0.010 edfimage.py:1464(data)\n       10    0.000    0.000    0.000    0.000 edfimage.py:1469(data)\n       30    0.000    0.000    0.000    0.000 edfimage.py:148(__init__)\n       10    0.000    0.000    0.000    0.000 edfimage.py:176(get_data_rank)\n       10    0.000    0.000    0.000    0.000 edfimage.py:206(get_data_shape)\n       10    0.000    0.000    0.000    0.000 edfimage.py:258(get_data_counts)\n       10    0.000    0.000    0.001    0.000 edfimage.py:287(_extract_header_metadata)\n       10    0.000    0.000    0.000    0.000 edfimage.py:464(_create_header)\n       10    0.000    0.000    0.000    0.000 edfimage.py:496(_check_header_mandatory_keys)\n       10    0.000    0.000    0.000    0.000 edfimage.py:502(<listcomp>)\n       10    0.000    0.000    0.000    0.000 edfimage.py:520(swap_needed)\n       20    0.000    0.000    0.181    0.009 edfimage.py:526(_unpack)\n       20    0.015    0.001    0.196    0.010 edfimage.py:622(data)\n       40    0.000    0.000    0.000    0.000 edfimage.py:631(data)\n       10    0.000    0.000    0.001    0.000 edfimage.py:777(__init__)\n       40    0.000    0.000    0.000    0.000 edfimage.py:824(check_header)\n       20    0.001    0.000    0.001    0.000 edfimage.py:836(_read_header_block)\n       20    0.000    0.000    0.001    0.000 errors.py:17(normalize_kernel_dimensions)\n       40    0.000    0.000    0.001    0.000 errors.py:22(check_dim)\n       20    0.000    0.000    0.000    0.000 fabioformats.py:182(_get_extension_mapping)\n       20    0.000    0.000    0.000    0.000 fabioformats.py:201(get_classes_from_extension)\n       10    0.000    0.000    0.001    0.000 fabioformats.py:229(factory)\n       40    0.000    0.000    0.000    0.000 fabioimage.py:120(resetvals)\n       30    0.000    0.000    0.000    0.000 fabioimage.py:266(__init__)\n      120    0.000    0.000    0.000    0.000 fabioimage.py:349(header)\n       30    0.000    0.000    0.000    0.000 fabioimage.py:357(header)\n       10    0.000    0.000    0.000    0.000 fabioimage.py:365(shape)\n       20    0.000    0.000    0.000    0.000 fabioimage.py:410(codec_name)\n       20    0.000    0.000    0.001    0.000 fabioimage.py:415(__init__)\n       10    0.000    0.000    0.000    0.000 fabioimage.py:542(check_header)\n       20    0.000    0.000    0.000    0.000 fabioimage.py:555(check_data)\n       10    0.000    0.000    0.000    0.000 fabioimage.py:569(getclassname)\n       20    0.000    0.000    0.062    0.003 fabioimage.py:736(_open)\n       20    0.000    0.000    0.002    0.000 fabioutils.py:133(__init__)\n       20    0.000    0.000    0.002    0.000 fabioutils.py:199(deconstruct_filename)\n       20    0.000    0.000    0.001    0.000 fabioutils.py:278(numstem)\n       20    0.000    0.000    0.000    0.000 fabioutils.py:290(<listcomp>)\n       20    0.000    0.000    0.002    0.000 fabioutils.py:339(extract_filenumber)\n       40    0.000    0.000    0.000    0.000 fabioutils.py:384(nice_int)\n       20    0.058    0.003    0.058    0.003 fabioutils.py:442(__init__)\n       20    0.000    0.000    0.000    0.000 fabioutils.py:471(__del__)\n       10    0.000    0.000    0.000    0.000 fabioutils.py:477(close)\n       10    0.000    0.000    0.000    0.000 fabioutils.py:502(__enter__)\n       10    0.000    0.000    0.000    0.000 fabioutils.py:505(__exit__)\n       12    0.000    0.000    0.000    0.000 fromnumeric.py:197(_reshape_dispatcher)\n       12    0.000    0.000    0.000    0.000 fromnumeric.py:202(reshape)\n        3    0.000    0.000    0.000    0.000 fromnumeric.py:2232(_any_dispatcher)\n        3    0.000    0.000    0.000    0.000 fromnumeric.py:2236(any)\n        3    0.000    0.000    0.000    0.000 fromnumeric.py:3033(_ndim_dispatcher)\n        3    0.000    0.000    0.000    0.000 fromnumeric.py:3037(ndim)\n       30    0.000    0.000    0.000    0.000 fromnumeric.py:3126(_around_dispatcher)\n       30    0.000    0.000    6.969    0.232 fromnumeric.py:3130(around)\n       43    0.000    0.000    6.969    0.162 fromnumeric.py:55(_wrapfunc)\n        1    0.000    0.000    0.000    0.000 fromnumeric.py:600(_transpose_dispatcher)\n        1    0.000    0.000    0.000    0.000 fromnumeric.py:604(transpose)\n        3    0.000    0.000    0.000    0.000 fromnumeric.py:73(_wrapreduction)\n        3    0.000    0.000    0.000    0.000 fromnumeric.py:74(<dictcomp>)\n        3    0.000    0.000    0.000    0.000 function_base.py:21(_linspace_dispatcher)\n        3    0.000    0.000    0.000    0.000 function_base.py:26(linspace)\n       80    0.000    0.000    0.000    0.000 functools.py:781(dispatch)\n       80    0.000    0.000    0.007    0.000 functools.py:835(wrapper)\n       20    0.000    0.000    0.000    0.000 genericpath.py:121(_splitext)\n       10    0.000    0.000    0.003    0.000 genericpath.py:16(exists)\n       30    0.000    0.000    0.004    0.000 iostream.py:197(schedule)\n       20    0.000    0.000    0.000    0.000 iostream.py:309(_is_master_process)\n       20    0.000    0.000    0.001    0.000 iostream.py:322(_schedule_flush)\n       20    0.000    0.000    0.005    0.000 iostream.py:384(write)\n       30    0.000    0.000    0.000    0.000 iostream.py:93(_event_pipe)\n       60    0.000    0.000    0.000    0.000 misc.py:49(unliteral)\n       10    0.000    0.000    0.000    0.000 multiarray.py:145(concatenate)\n        3    0.000    0.000    0.000    0.000 multiarray.py:635(result_type)\n       60    0.000    0.000    0.002    0.000 npytypes.py:399(__init__)\n      240    0.000    0.000    0.000    0.000 npytypes.py:434(key)\n       30    0.000    0.000    0.000    0.000 ntpath.py:122(splitdrive)\n       30    0.000    0.000    0.001    0.000 ntpath.py:178(split)\n       20    0.000    0.000    0.000    0.000 ntpath.py:201(splitext)\n       10    0.000    0.000    0.000    0.000 ntpath.py:219(dirname)\n       30    0.000    0.000    0.000    0.000 ntpath.py:34(_get_bothseps)\n        3    0.000    0.000    0.000    0.000 numeric.py:1786(isscalar)\n       60    0.000    0.000    0.000    0.000 numpy_support.py:87(from_dtype)\n       10    0.000    0.000    0.000    0.000 openimage.py:108(do_magic)\n       10    0.000    0.000    0.070    0.007 openimage.py:127(openimage)\n       10    0.000    0.000    0.063    0.006 openimage.py:182(_openimage)\n       30    0.000    0.000    0.000    0.000 re.py:232(compile)\n       30    0.000    0.000    0.000    0.000 re.py:271(_compile)\n       10    0.000    0.000    0.000    0.000 sigutils.py:19(normalize_signature)\n       80    0.000    0.000    0.000    0.000 sigutils.py:40(check_type)\n       30    0.004    0.000    0.004    0.000 socket.py:342(send)\n       30    0.000    0.000    0.000    0.000 threading.py:1050(_wait_for_tstate_lock)\n       30    0.000    0.000    0.000    0.000 threading.py:1092(is_alive)\n       20    0.000    0.000    0.000    0.000 threading.py:216(__init__)\n       20    0.000    0.000    0.000    0.000 threading.py:240(__enter__)\n       20    0.000    0.000    0.000    0.000 threading.py:243(__exit__)\n       10    0.000    0.000    0.000    0.000 threading.py:255(_is_owned)\n       10    0.000    0.000    0.000    0.000 threading.py:335(notify)\n       20    0.000    0.000    0.000    0.000 threading.py:382(__init__)\n       10    0.000    0.000    0.000    0.000 threading.py:388(acquire)\n       10    0.000    0.000    0.000    0.000 threading.py:435(release)\n       10    0.000    0.000    0.000    0.000 threading.py:446(__exit__)\n       30    0.000    0.000    0.000    0.000 threading.py:507(is_set)\n       20    0.000    0.000    0.000    0.000 typeof.py:117(_typeof_int)\n       80    0.000    0.000    0.007    0.000 typeof.py:24(typeof)\n       60    0.000    0.000    0.006    0.000 typeof.py:38(typeof_impl)\n       60    0.000    0.000    0.001    0.000 typeof.py:59(_typeof_buffer)\n       60    0.000    0.000    0.000    0.000 utils.py:375(__setitem__)\n       20    0.000    0.000    0.000    0.000 utils.py:416(bit_length)\n       80    0.000    0.000    0.000    0.000 weakref.py:395(__getitem__)\n      200    0.001    0.000    0.002    0.000 weakref.py:530(__init__)\n  200/140    0.001    0.000    0.305    0.002 weakref.py:567(__call__)\n      120    0.000    0.000    0.000    0.000 weakref.py:590(alive)\n      430    0.000    0.000    0.000    0.000 {built-in method __new__ of type object at 0x00007FFC923779A0}\n      360    0.000    0.000    0.001    0.000 {built-in method _abc._abc_instancecheck}\n       80    0.000    0.000    0.000    0.000 {built-in method _abc._abc_subclasscheck}\n       80    0.000    0.000    0.000    0.000 {built-in method _abc.get_cache_token}\n      520    0.000    0.000    0.000    0.000 {built-in method _ctypes.addressof}\n      260    0.000    0.000    0.000    0.000 {built-in method _ctypes.byref}\n      480    0.000    0.000    0.000    0.000 {built-in method _functools.reduce}\n        3    0.000    0.000    0.000    0.000 {built-in method _operator.index}\n       20    0.000    0.000    0.000    0.000 {built-in method _thread.allocate_lock}\n      200    0.000    0.000    0.000    0.000 {built-in method _weakref.proxy}\n      160    0.000    0.000    0.000    0.000 {built-in method builtins.abs}\n       20    0.000    0.000    0.000    0.000 {built-in method builtins.any}\n       20    0.000    0.000    0.000    0.000 {built-in method builtins.bin}\n      100    0.000    0.000    0.000    0.000 {built-in method builtins.delattr}\n       20    0.001    0.000    0.001    0.000 {built-in method builtins.dir}\n        1    0.000    0.000   34.675   34.675 {built-in method builtins.exec}\n2346/2106    0.001    0.000    0.005    0.000 {built-in method builtins.getattr}\n      860    0.001    0.000    0.001    0.000 {built-in method builtins.hasattr}\n  260/140    0.000    0.000    0.000    0.000 {built-in method builtins.hash}\n     1983    0.001    0.000    0.002    0.000 {built-in method builtins.isinstance}\n       10    0.000    0.000    0.000    0.000 {built-in method builtins.issubclass}\n      280    0.000    0.000    0.000    0.000 {built-in method builtins.iter}\n     2020    0.000    0.000    0.000    0.000 {built-in method builtins.len}\n      320    0.000    0.000    0.000    0.000 {built-in method builtins.max}\n     1180    0.001    0.000    0.008    0.000 {built-in method builtins.next}\n       10    0.000    0.000    0.005    0.000 {built-in method builtins.print}\n      600    0.000    0.000    0.001    0.000 {built-in method builtins.sum}\n       80    0.000    0.000    0.000    0.000 {built-in method nt.fspath}\n       20    0.000    0.000    0.000    0.000 {built-in method nt.getpid}\n       10    0.003    0.000    0.003    0.000 {built-in method nt.stat}\n       60    0.000    0.000    0.000    0.000 {built-in method numba.mviewbuf.memoryview_get_buffer}\n       60    0.000    0.000    0.000    0.000 {built-in method numba.mviewbuf.memoryview_get_extents_info}\n        5    0.000    0.000    0.000    0.000 {built-in method numpy.arange}\n       96    0.000    0.000    0.000    0.000 {built-in method numpy.array}\n    65/56    0.432    0.007    7.402    0.132 {built-in method numpy.core._multiarray_umath.implement_array_function}\n       20    0.026    0.001    0.026    0.001 {built-in method numpy.empty}\n       10    0.000    0.000    0.000    0.000 {built-in method numpy.frombuffer}\n        2    0.000    0.000    0.000    0.000 {built-in method numpy.geterrobj}\n        1    0.000    0.000    0.000    0.000 {built-in method numpy.seterrobj}\n        5    0.002    0.000    0.002    0.000 {built-in method numpy.zeros}\n       20    0.001    0.000    0.001    0.000 {function File.close at 0x00000203BD88C798}\n       20    0.000    0.000    0.000    0.000 {method '__enter__' of '_thread.lock' objects}\n       20    0.000    0.000    0.000    0.000 {method '__exit__' of '_thread.lock' objects}\n       10    0.000    0.000    0.000    0.000 {method '__reduce_ex__' of 'object' objects}\n       40    0.000    0.000    0.000    0.000 {method 'acquire' of '_thread.lock' objects}\n        3    0.000    0.000    0.000    0.000 {method 'any' of 'numpy.generic' objects}\n       90    0.000    0.000    0.000    0.000 {method 'append' of 'collections.deque' objects}\n     1610    0.000    0.000    0.000    0.000 {method 'append' of 'list' objects}\n        3    0.000    0.000    0.000    0.000 {method 'astype' of 'numpy.ndarray' objects}\n       10    0.078    0.008    0.078    0.008 {method 'copy' of 'numpy.ndarray' objects}\n      140    0.000    0.000    0.000    0.000 {method 'decode' of 'bytes' objects}\n        1    0.000    0.000    0.000    0.000 {method 'disable' of '_lsprof.Profiler' objects}\n       10    0.000    0.000    0.000    0.000 {method 'encode' of 'str' objects}\n       10    0.000    0.000    0.000    0.000 {method 'end' of 're.Match' objects}\n       20    0.000    0.000    0.000    0.000 {method 'endswith' of 'str' objects}\n       20    0.000    0.000    0.000    0.000 {method 'find' of 'bytes' objects}\n       20    0.000    0.000    0.000    0.000 {method 'format' of 'str' objects}\n      100    0.000    0.000    0.001    0.000 {method 'get' of 'dict' objects}\n       20    0.000    0.000    0.000    0.000 {method 'groups' of 're.Match' objects}\n       80    0.000    0.000    0.000    0.000 {method 'indices' of 'slice' objects}\n       20    0.000    0.000    0.000    0.000 {method 'insert' of 'list' objects}\n       10    0.000    0.000    0.000    0.000 {method 'items' of 'collections.OrderedDict' objects}\n        3    0.000    0.000    0.000    0.000 {method 'items' of 'dict' objects}\n       10    0.000    0.000    0.000    0.000 {method 'join' of 'bytes' objects}\n       30    0.000    0.000    0.000    0.000 {method 'join' of 'str' objects}\n       10    0.000    0.000    0.000    0.000 {method 'keys' of 'collections.OrderedDict' objects}\n       70    0.000    0.000    0.000    0.000 {method 'lower' of 'str' objects}\n       20    0.000    0.000    0.000    0.000 {method 'match' of 're.Pattern' objects}\n      200    0.000    0.000    0.000    0.000 {method 'pop' of 'dict' objects}\n       60    0.000    0.000    0.000    0.000 {method 'popleft' of 'collections.deque' objects}\n       60    0.103    0.002    0.103    0.002 {method 'read' of '_io.FileIO' objects}\n        3    0.000    0.000    0.000    0.000 {method 'reduce' of 'numpy.ufunc' objects}\n        2    0.046    0.023    0.046    0.023 {method 'repeat' of 'numpy.ndarray' objects}\n       50    0.000    0.000    0.000    0.000 {method 'replace' of 'str' objects}\n       37    0.000    0.000    0.000    0.000 {method 'reshape' of 'numpy.ndarray' objects}\n       60    0.000    0.000    0.000    0.000 {method 'rfind' of 'str' objects}\n       30    6.968    0.232    6.968    0.232 {method 'round' of 'numpy.ndarray' objects}\n      260    0.000    0.000    0.000    0.000 {method 'rpartition' of 'str' objects}\n       30    0.000    0.000    0.000    0.000 {method 'rstrip' of 'str' objects}\n       20    0.000    0.000    0.000    0.000 {method 'search' of 're.Pattern' objects}\n       30    0.000    0.000    0.000    0.000 {method 'seek' of '_io.FileIO' objects}\n       80    0.000    0.000    0.000    0.000 {method 'split' of 'bytes' objects}\n       30    0.000    0.000    0.000    0.000 {method 'split' of 'str' objects}\n       40    0.000    0.000    0.000    0.000 {method 'squeeze' of 'numpy.ndarray' objects}\n       10    0.000    0.000    0.000    0.000 {method 'start' of 're.Match' objects}\n      110    0.000    0.000    0.000    0.000 {method 'startswith' of 'bytes' objects}\n      160    0.000    0.000    0.000    0.000 {method 'strip' of 'bytes' objects}\n       10    0.000    0.000    0.000    0.000 {method 'tell' of '_io.FileIO' objects}\n        1    0.000    0.000    0.000    0.000 {method 'transpose' of 'numpy.ndarray' objects}\n       30    0.000    0.000    0.000    0.000 {method 'update' of 'dict' objects}\n      140    0.000    0.000    0.000    0.000 {method 'upper' of 'str' objects}\n\n\n"
    }
   ],
   "source": [
    "        import cProfile\n",
    "\n",
    "        cProfile.run('DiffuseReconstruction(10)')"
   ]
  },
  {
   "cell_type": "code",
   "execution_count": 108,
   "metadata": {
    "tags": []
   },
   "outputs": [
    {
     "output_type": "stream",
     "name": "stdout",
     "text": "0:01:13.552489\n"
    }
   ],
   "source": [
    "startTime = datetime.now()\n",
    "\n",
    "box,num = DiffuseReconstruction(300)\n",
    "\n",
    "print(datetime.now() - startTime)"
   ]
  },
  {
   "cell_type": "code",
   "execution_count": 12,
   "metadata": {},
   "outputs": [
    {
     "output_type": "execute_result",
     "data": {
      "text/plain": "<function numba.cuda.api.list_devices()>"
     },
     "metadata": {},
     "execution_count": 12
    }
   ],
   "source": []
  },
  {
   "cell_type": "code",
   "execution_count": 27,
   "metadata": {
    "tags": []
   },
   "outputs": [
    {
     "output_type": "execute_result",
     "data": {
      "text/plain": "True"
     },
     "metadata": {},
     "execution_count": 27
    }
   ],
   "source": [
    "import numba\n",
    "numba.cuda.is_available()"
   ]
  }
 ],
 "metadata": {
  "kernelspec": {
   "display_name": "Python 3",
   "language": "python",
   "name": "python3"
  },
  "language_info": {
   "codemirror_mode": {
    "name": "ipython",
    "version": 3
   },
   "file_extension": ".py",
   "mimetype": "text/x-python",
   "name": "python",
   "nbconvert_exporter": "python",
   "pygments_lexer": "ipython3",
   "version": "3.7.6"
  },
  "varInspector": {
   "cols": {
    "lenName": 16,
    "lenType": 16,
    "lenVar": 40
   },
   "kernels_config": {
    "python": {
     "delete_cmd_postfix": "",
     "delete_cmd_prefix": "del ",
     "library": "var_list.py",
     "varRefreshCmd": "print(var_dic_list())"
    },
    "r": {
     "delete_cmd_postfix": ") ",
     "delete_cmd_prefix": "rm(",
     "library": "var_list.r",
     "varRefreshCmd": "cat(var_dic_list()) "
    }
   },
   "position": {
    "height": "516.979px",
    "left": "1628.32px",
    "right": "20px",
    "top": "224.972px",
    "width": "493.542px"
   },
   "types_to_exclude": [
    "module",
    "function",
    "builtin_function_or_method",
    "instance",
    "_Feature"
   ],
   "window_display": true
  }
 },
 "nbformat": 4,
 "nbformat_minor": 4
}