{
 "cells": [
  {
   "cell_type": "code",
   "execution_count": 2,
   "metadata": {},
   "outputs": [],
   "source": [
    "import numpy as np\n",
    "import fabio\n",
    "#import cupy as cp\n",
    "from datetime import datetime\n",
    "from numba import jit, cuda, prange"
   ]
  },
  {
   "cell_type": "code",
   "execution_count": 3,
   "metadata": {},
   "outputs": [],
   "source": [
    "#initialze detector info\n",
    "# //These are the details of the detector in the detInfo wave\n",
    "# \t//detInfo[0] = xdim\n",
    "# \t//detInfo[1] = ydim\n",
    "# \t//detInfo[2] = xpixsize\tGiven in mm\n",
    "# \t//detInfo[3] = ypixsize\tGiven in mm\n",
    "# \t//detInfo[4] = xcen (pixels)\n",
    "# \t//detInfo[5] = ycen (pixels)\n",
    "# \t//detInfo[6] = tiltang\tGiven in degrees\n",
    "# \t//detInfo[7] = tiltrot\t\tGiven in degrees\n",
    "# \t//detInfo[8] = sample to detector distance\tGiven in mm\n",
    "# \t//detInfo[9] = lamda\tGiven in Angstroms\n",
    "# detInfo = np.array([1475,1679,0.17200001,0.17200001,738.00598,829.4032,0,0,450,0.23946001])\n",
    "detInfo = np.array([2048,2048,0.17200001,0.17200001,738.00598,829.4032,0,0,450,0.23946001])\n",
    "imFilePrefix = \"\"\n",
    "imNumbers = np.arange(1,1000)\n",
    "boxsize = 801\n",
    "qmax = 4\n",
    "# boxname = \"\"\n",
    "omegaPos = np.arange(0,180,0.2)\n",
    "phiPos = np.zeros(180)\n",
    "psiPos = np.zeros(180)\n",
    "# phiPos = np.arange(0,0,0.2)\n",
    "# psiPos = np.arange(0,0,0.2)\n",
    "mask = []\n",
    "rejects = []\n",
    "cust_mask = []\n",
    "mask_list = []\n",
    "rotmatrix = np.eye(3)\n",
    "normInt = np.arange(1,1000)\n",
    "startIm = 30\n",
    "# box = np.zeros((boxsize,boxsize,boxsize),dtype=np.float32)"
   ]
  },
  {
   "cell_type": "code",
   "execution_count": 9,
   "metadata": {
    "scrolled": true
   },
   "outputs": [],
   "source": [
    "def DiffuseReconstruction_cupy(fileNum):\n",
    "    \n",
    "    mempool = cp.get_default_memory_pool()\n",
    "    tiltang = detInfo[6]*cp.pi/180 \n",
    "    tiltrot = detInfo[7]*cp.pi/180 \n",
    "    dist = detInfo[8]\n",
    "\n",
    "#     row,col = cp.indices((int(detInfo[0]),int(detInfo[1])))\n",
    "    row = cp.arange(0,int(detInfo[0])).repeat(int(detInfo[1])).reshape(int(detInfo[0]),int(detInfo[1]))\n",
    "    col = cp.arange(0,int(detInfo[1])).repeat(int(detInfo[0])).reshape(int(detInfo[1]),int(detInfo[0]))\n",
    "    col = cp.transpose(col)\n",
    "    TT = (cp.arctan(cp.sqrt((cp.cos(tiltang)**2*(cp.cos(tiltrot)*((row-detInfo[4])*detInfo[2])+cp.sin(tiltrot)*((col-detInfo[5])*detInfo[3]))**2 + (-cp.sin(tiltrot)*((row-detInfo[4])*detInfo[2]) + cp.cos(tiltrot)*((col-detInfo[5])*detInfo[3]))**2)/((dist+cp.sin(tiltang)*(cp.cos(tiltrot)*((row-detInfo[4])*detInfo[2])+cp.sin(tiltrot)*((col-detInfo[5])*detInfo[3])))**2))))/2\n",
    "    AZ = cp.arctan2(((col-detInfo[5])*detInfo[3]), ((row-detInfo[4])*detInfo[2]))+cp.pi\n",
    "#     grid = cp.indices((int(detInfo[0]),int(detInfo[1])))\n",
    "#     TT = (cp.arctan(cp.sqrt((cp.cos(tiltang)**2*(cp.cos(tiltrot)*((grid[0]-detInfo[4])*detInfo[2])+cp.sin(tiltrot)*((grid[1]-detInfo[5])*detInfo[3]))**2 + (-cp.sin(tiltrot)*((grid[0]-detInfo[4])*detInfo[2]) + cp.cos(tiltrot)*((grid[1]-detInfo[5])*detInfo[3]))**2)/((dist+cp.sin(tiltang)*(cp.cos(tiltrot)*((grid[0]-detInfo[4])*detInfo[2])+cp.sin(tiltrot)*((grid[1]-detInfo[5])*detInfo[3])))**2))))/2\n",
    "#     AZ = cp.arctan2(((grid[1]-detInfo[5])*detInfo[3]), ((grid[0]-detInfo[4])*detInfo[2]))+cp.pi\n",
    "\n",
    "    TT1D = cp.reshape(TT,int(detInfo[0])*int(detInfo[1]))\n",
    "    AZ1D = cp.reshape(AZ,int(detInfo[0])*int(detInfo[1]))\n",
    "\n",
    "    # boxname = cp.empty((boxsize,boxsize,boxsize))\n",
    "    # boxname[:] = cp.NaN\n",
    "    # numpixels = cp.empty((boxsize,boxsize,boxsize))\n",
    "    # numpixels[:] = cp.NaN\n",
    "\n",
    "    box = cp.zeros((boxsize,boxsize,boxsize),dtype=cp.float32)\n",
    "    numpixels = cp.zeros((boxsize,boxsize,boxsize),dtype=int)\n",
    "    # Use ravel() for shallow copy or flatten() for deep copy\n",
    "\n",
    "#     omega = 0\n",
    "#     phi = 0\n",
    "#     psi = 0\n",
    "#     qx = cp.zeros(int(detInfo[0])*int(detInfo[1]))\n",
    "#     qy = cp.zeros(int(detInfo[0])*int(detInfo[1]))\n",
    "#     qz = cp.zeros(int(detInfo[0])*int(detInfo[1]))\n",
    "#     BBposX = cp.zeros(int(detInfo[0])*int(detInfo[1]))\n",
    "#     BBposY = cp.zeros(int(detInfo[0])*int(detInfo[1]))\n",
    "#     BBposZ = cp.zeros(int(detInfo[0])*int(detInfo[1]))\n",
    "\n",
    "    qrangex = cp.linspace(-(qmax),qmax,boxsize)\n",
    "    qrangey = cp.linspace(-(qmax),qmax,boxsize)\n",
    "    qrangez = cp.linspace(-(qmax),qmax,boxsize)\n",
    "    \n",
    "    \n",
    "#     mempool.free_all_blocks()\n",
    "\n",
    "    # for i in range(int(detInfo[0])*int(detInfo[1])):\n",
    "    for i in range(fileNum):\n",
    "        omega = omegaPos[i]*cp.pi/180\n",
    "        phi = phiPos[i]*cp.pi/180\n",
    "        psi = psiPos[i]*cp.pi/180\n",
    "\n",
    "        qx = (4*cp.pi*cp.sin(TT1D)/detInfo[9]) * (cp.sin(TT1D)*(cp.sin(phi)*cp.sin(psi)*cp.sin(omega) + cp.cos(phi)*cp.cos(omega)) + cp.cos(TT1D)*cp.cos(AZ1D)*cp.sin(phi)*cp.cos(psi) - cp.cos(TT1D)*cp.sin(AZ1D)*(cp.sin(phi)*cp.sin(psi)*cp.cos(omega) - cp.cos(phi)*cp.sin(omega)))\n",
    "        qy = (4*cp.pi*cp.sin(TT1D)/detInfo[9]) * (-cp.sin(TT1D)*(cp.cos(phi)*cp.sin(psi)*cp.sin(omega) - cp.sin(phi)*cp.cos(omega)) - cp.cos(TT1D)*cp.cos(AZ1D)*cp.cos(phi)*cp.cos(psi) + cp.cos(TT1D)*cp.sin(AZ1D)*(cp.cos(phi)*cp.sin(psi)*cp.cos(omega) + cp.sin(phi)*cp.sin(omega)))\n",
    "        qz = (4*cp.pi*cp.sin(TT1D)/detInfo[9]) * (cp.sin(TT1D)*cp.cos(psi)*cp.sin(omega) - cp.cos(TT1D)*cp.sin(AZ1D)*cp.cos(psi)*cp.cos(omega) - cp.cos(TT1D)*cp.cos(AZ1D)*cp.sin(psi))\n",
    "\n",
    "        BBposX = cp.round((qx - (qmax)) / (qrangex[1]-qrangex[0]))\n",
    "        BBposY = cp.round((qy - (qmax)) / (qrangey[1]-qrangey[0]))\n",
    "        BBposZ = cp.round((qz - (qmax)) / (qrangez[1]-qrangez[0]))\n",
    "\n",
    "    "
   ]
  },
  {
   "cell_type": "code",
   "execution_count": 4,
   "metadata": {},
   "outputs": [],
   "source": [
    "\n",
    "# @jit(nopython=True,parallel=True)\n",
    "def DiffuseReconstruction(fileNum):\n",
    "    tiltang = detInfo[6]*np.pi/180 \n",
    "    tiltrot = detInfo[7]*np.pi/180 \n",
    "    dist = detInfo[8]\n",
    "\n",
    "#     row,col = np.indices((int(detInfo[0]),int(detInfo[1])))\n",
    "    row = np.arange(0,int(detInfo[0])).repeat(int(detInfo[1])).reshape(int(detInfo[0]),int(detInfo[1]))\n",
    "    col = np.arange(0,int(detInfo[1])).repeat(int(detInfo[0])).reshape(int(detInfo[1]),int(detInfo[0]))\n",
    "    col = np.transpose(col)\n",
    "    TT = (np.arctan(np.sqrt((np.cos(tiltang)**2*(np.cos(tiltrot)*((row-detInfo[4])*detInfo[2])+np.sin(tiltrot)*((col-detInfo[5])*detInfo[3]))**2 + (-np.sin(tiltrot)*((row-detInfo[4])*detInfo[2]) + np.cos(tiltrot)*((col-detInfo[5])*detInfo[3]))**2)/((dist+np.sin(tiltang)*(np.cos(tiltrot)*((row-detInfo[4])*detInfo[2])+np.sin(tiltrot)*((col-detInfo[5])*detInfo[3])))**2))))/2\n",
    "    AZ = np.arctan2(((col-detInfo[5])*detInfo[3]), ((row-detInfo[4])*detInfo[2]))+np.pi\n",
    "#     grid = np.indices((int(detInfo[0]),int(detInfo[1])))\n",
    "#     TT = (np.arctan(np.sqrt((np.cos(tiltang)**2*(np.cos(tiltrot)*((grid[0]-detInfo[4])*detInfo[2])+np.sin(tiltrot)*((grid[1]-detInfo[5])*detInfo[3]))**2 + (-np.sin(tiltrot)*((grid[0]-detInfo[4])*detInfo[2]) + np.cos(tiltrot)*((grid[1]-detInfo[5])*detInfo[3]))**2)/((dist+np.sin(tiltang)*(np.cos(tiltrot)*((grid[0]-detInfo[4])*detInfo[2])+np.sin(tiltrot)*((grid[1]-detInfo[5])*detInfo[3])))**2))))/2\n",
    "#     AZ = np.arctan2(((grid[1]-detInfo[5])*detInfo[3]), ((grid[0]-detInfo[4])*detInfo[2]))+np.pi\n",
    "\n",
    "    TT1D = np.reshape(TT,int(detInfo[0])*int(detInfo[1]))\n",
    "    AZ1D = np.reshape(AZ,int(detInfo[0])*int(detInfo[1]))\n",
    "\n",
    "#     boxname = np.empty((boxsize,boxsize,boxsize))\n",
    "#     boxname[:] = np.NaN\n",
    "#     numpixels = np.empty((boxsize,boxsize,boxsize))\n",
    "#     numpixels[:] = np.NaN\n",
    "#     boxname = np.zeros((boxsize,boxsize,boxsize))\n",
    "#     numpixels = np.zeros((boxsize,boxsize,boxsize))\n",
    "\n",
    "    boxname = np.zeros((boxsize,boxsize,boxsize),dtype=np.float32)\n",
    "    num = np.zeros((boxsize,boxsize,boxsize),dtype=np.int_)\n",
    "    # Use ravel() for shallow copy or flatten() for deep copy\n",
    "\n",
    "#     omega = 0\n",
    "#     phi = 0\n",
    "#     psi = 0\n",
    "#     qx = np.zeros(int(detInfo[0])*int(detInfo[1]))\n",
    "#     qy = np.zeros(int(detInfo[0])*int(detInfo[1]))\n",
    "#     qz = np.zeros(int(detInfo[0])*int(detInfo[1]))\n",
    "    BBposX = np.zeros(int(detInfo[0])*int(detInfo[1]),dtype=np.int_)\n",
    "    BBposY = np.zeros(int(detInfo[0])*int(detInfo[1]),dtype=np.int_)\n",
    "    BBposZ = np.zeros(int(detInfo[0])*int(detInfo[1]),dtype=np.int_)\n",
    "\n",
    "    qrangex = np.linspace(-(qmax),qmax,boxsize)\n",
    "    qrangey = np.linspace(-(qmax),qmax,boxsize)\n",
    "    qrangez = np.linspace(-(qmax),qmax,boxsize)\n",
    "\n",
    "    # for i in range(int(detInfo[0])*int(detInfo[1])):\n",
    "    for i in range(fileNum):\n",
    "        if i % 10 == 0:\n",
    "            print(i)\n",
    "        #use FABIO to load the image\n",
    "#         CI_fabio = fabio.open(\"E:\\\\ESRF_Oct_2014_Experiments\\\\Debbie_Single_Crystal_experiments\\\\s1_363K_2p0_diffuse\\\\DisCorr\\\\s1_363K_2p0_diffuse_0000.edf\")\n",
    "#         CI_fabio = fabio.open(\"C:\\\\Users\\\\Patrick\\\\Desktop\\\\s1_363K_2p0_diffuse\\\\DisCorr\\\\s1_363K_2p0_diffuse_0000.edf\")\n",
    "        CI_fabio = fabio.open(\"C:\\\\Users\\\\Patrick\\\\Desktop\\\\s1_363K_2p0_diffuse\\\\DisCorr\\\\s1_363K_2p0_diffuse_\"+(\"%04d\" % (i))+\".edf\")\n",
    "        #convert to numpy array\n",
    "        CI = np.asarray(CI_fabio.data)\n",
    "        CI = np.reshape(CI,int(detInfo[0])*int(detInfo[1]))\n",
    "        (bigbox,numpixels) = looper(i,CI,TT1D,AZ1D,qmax,qrangex,qrangey,qrangez,BBposX,BBposY,BBposZ,boxname,num)\n",
    "        boxname += bigbox\n",
    "        num += numpixels\n",
    "#     print(boxname)\n",
    "    np.seterr(divide='ignore', invalid='ignore')\n",
    "    boxname = boxname/num\n",
    "    \n",
    "    return boxname\n",
    "    \n",
    "#     print(boxname[17, 656, 549])"
   ]
  },
  {
   "cell_type": "code",
   "execution_count": 5,
   "metadata": {},
   "outputs": [],
   "source": [
    "@jit(nopython=True,parallel=True)\n",
    "def looper(row,image,TT1D,AZ1D,qmax,qrangex,qrangey,qrangez,BBposX,BBposY,BBposZ,bigbox,numpixels):\n",
    "    \n",
    "#     bigbox = np.zeros((boxsize,boxsize,boxsize),dtype=np.float32)\n",
    "#     numpixels = np.zeros((boxsize,boxsize,boxsize),dtype=np.int_)\n",
    "    \n",
    "    omega = omegaPos[row]*np.pi/180\n",
    "    phi = phiPos[row]*np.pi/180\n",
    "    psi = psiPos[row]*np.pi/180\n",
    "\n",
    "    qx = (4*np.pi*np.sin(TT1D)/detInfo[9]) * (np.sin(TT1D)*(np.sin(phi)*np.sin(psi)*np.sin(omega) + np.cos(phi)*np.cos(omega)) + np.cos(TT1D)*np.cos(AZ1D)*np.sin(phi)*np.cos(psi) - np.cos(TT1D)*np.sin(AZ1D)*(np.sin(phi)*np.sin(psi)*np.cos(omega) - np.cos(phi)*np.sin(omega)))\n",
    "    qy = (4*np.pi*np.sin(TT1D)/detInfo[9]) * (-np.sin(TT1D)*(np.cos(phi)*np.sin(psi)*np.sin(omega) - np.sin(phi)*np.cos(omega)) - np.cos(TT1D)*np.cos(AZ1D)*np.cos(phi)*np.cos(psi) + np.cos(TT1D)*np.sin(AZ1D)*(np.cos(phi)*np.sin(psi)*np.cos(omega) + np.sin(phi)*np.sin(omega)))\n",
    "    qz = (4*np.pi*np.sin(TT1D)/detInfo[9]) * (np.sin(TT1D)*np.cos(psi)*np.sin(omega) - np.cos(TT1D)*np.sin(AZ1D)*np.cos(psi)*np.cos(omega) - np.cos(TT1D)*np.cos(AZ1D)*np.sin(psi))\n",
    "\n",
    "    np.round((qx - (qmax)) / (qrangex[1]-qrangex[0]),0,BBposX)\n",
    "    np.round((qy - (qmax)) / (qrangey[1]-qrangey[0]),0,BBposY)\n",
    "    np.round((qz - (qmax)) / (qrangez[1]-qrangez[0]),0,BBposZ)\n",
    "#     print(BBposX)\n",
    "#     print(BBposY)\n",
    "#     print(BBposZ)\n",
    "#         BBposX = np.round((qx - (qmax)) / (qrangex[1]-qrangex[0]))\n",
    "#         BBposY = np.round((qy - (qmax)) / (qrangey[1]-qrangey[0]))\n",
    "#         BBposZ = np.round((qz - (qmax)) / (qrangez[1]-qrangez[0]))\n",
    "\n",
    "    for j in range(image.size):\n",
    "        \n",
    "        if(0 <= BBposX[j] and 0 <= BBposY[j] and 0 <= BBposZ[j] and BBposX[j] < bigbox.shape[0] and BBposY[j] < bigbox.shape[1] and BBposZ[j] < bigbox.shape[2] ):\n",
    "            if(np.isfinite(image[j])):\n",
    "                \n",
    "#             print(j)\n",
    "#                 if(np.isnan(boxname[BBposX[j],BBposY[j],BBposZ[j]]) == True):\n",
    "                bigbox[BBposX[j],BBposY[j],BBposZ[j]] += image[j]\n",
    "                numpixels[BBposX[j],BBposY[j],BBposZ[j]] += 1 \n",
    "#             print(BBposX[j],BBposY[j],BBposZ[j])\n",
    "#         print(image[j])\n",
    "#     print(boxname[17, 656, 549])\n",
    "#     print(numpixels[17, 656, 549])\n",
    "#     box = boxname/numpixels\n",
    "#     return box[400,400,400]\n",
    "    return bigbox,numpixels"
   ]
  },
  {
   "cell_type": "code",
   "execution_count": 39,
   "metadata": {},
   "outputs": [
    {
     "name": "stdout",
     "output_type": "stream",
     "text": [
      "0\n"
     ]
    }
   ],
   "source": [
    "box = DiffuseReconstruction(10)"
   ]
  },
  {
   "cell_type": "code",
   "execution_count": 7,
   "metadata": {},
   "outputs": [
    {
     "name": "stderr",
     "output_type": "stream",
     "text": [
      "C:\\Users\\Patrick\\anaconda3\\lib\\site-packages\\matplotlib\\image.py:397: UserWarning: Warning: converting a masked element to nan.\n",
      "  dv = (np.float64(self.norm.vmax) -\n",
      "C:\\Users\\Patrick\\anaconda3\\lib\\site-packages\\matplotlib\\image.py:398: UserWarning: Warning: converting a masked element to nan.\n",
      "  np.float64(self.norm.vmin))\n",
      "C:\\Users\\Patrick\\anaconda3\\lib\\site-packages\\matplotlib\\image.py:405: UserWarning: Warning: converting a masked element to nan.\n",
      "  a_min = np.float64(newmin)\n",
      "C:\\Users\\Patrick\\anaconda3\\lib\\site-packages\\matplotlib\\image.py:410: UserWarning: Warning: converting a masked element to nan.\n",
      "  a_max = np.float64(newmax)\n",
      "<string>:6: UserWarning: Warning: converting a masked element to nan.\n",
      "C:\\Users\\Patrick\\anaconda3\\lib\\site-packages\\numpy\\ma\\core.py:722: UserWarning: Warning: converting a masked element to nan.\n",
      "  data = np.array(a, copy=False, subok=subok)\n"
     ]
    },
    {
     "data": {
      "image/png": "[encoded data removed]",
      "text/plain": [
       "<Figure size 432x288 with 1 Axes>"
      ]
     },
     "metadata": {
      "needs_background": "light"
     },
     "output_type": "display_data"
    }
   ],
   "source": [
    "from matplotlib import pyplot       # Load matplotlib\n",
    "pyplot.imshow(box[:, :, 549]) \n",
    "pyplot.show() \n"
   ]
  },
  {
   "cell_type": "code",
   "execution_count": 7,
   "metadata": {},
   "outputs": [],
   "source": [
    "import winsound\n",
    "winsound.Beep(300, 750)"
   ]
  },
  {
   "cell_type": "code",
   "execution_count": 37,
   "metadata": {},
   "outputs": [
    {
     "data": {
      "text/plain": [
       "array([[nan, nan, nan, ..., nan, nan, nan],\n",
       "       [nan, nan, nan, ..., nan, nan, nan],\n",
       "       [nan, nan, nan, ..., nan, nan, nan],\n",
       "       ...,\n",
       "       [nan, nan, nan, ..., nan, nan, nan],\n",
       "       [nan, nan, nan, ..., nan, nan, nan],\n",
       "       [nan, nan, nan, ..., nan, nan, nan]])"
      ]
     },
     "execution_count": 37,
     "metadata": {},
     "output_type": "execute_result"
    }
   ],
   "source": [
    "box[:, :, 549]"
   ]
  },
  {
   "cell_type": "code",
   "execution_count": 6,
   "metadata": {},
   "outputs": [
    {
     "name": "stdout",
     "output_type": "stream",
     "text": [
      "0\n",
      "10\n",
      "20\n",
      "30\n",
      "40\n",
      "50\n",
      "60\n",
      "70\n",
      "80\n",
      "90\n",
      "0:01:24.638224\n"
     ]
    }
   ],
   "source": [
    "startTime = datetime.now()\n",
    "\n",
    "box = DiffuseReconstruction(100)\n",
    "\n",
    "print(datetime.now() - startTime)"
   ]
  },
  {
   "cell_type": "code",
   "execution_count": null,
   "metadata": {},
   "outputs": [],
   "source": []
  }
 ],
 "metadata": {
  "kernelspec": {
   "display_name": "Python 3",
   "language": "python",
   "name": "python3"
  },
  "language_info": {
   "codemirror_mode": {
    "name": "ipython",
    "version": 3
   },
   "file_extension": ".py",
   "mimetype": "text/x-python",
   "name": "python",
   "nbconvert_exporter": "python",
   "pygments_lexer": "ipython3",
   "version": "3.7.6"
  }
 },
 "nbformat": 4,
 "nbformat_minor": 4
}
