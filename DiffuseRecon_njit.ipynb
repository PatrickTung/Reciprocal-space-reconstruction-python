{
 "cells": [
  {
   "cell_type": "code",
   "execution_count": 1,
   "metadata": {
    "ExecuteTime": {
     "end_time": "2020-07-13T14:11:33.400723Z",
     "start_time": "2020-07-13T14:11:31.920517Z"
    }
   },
   "outputs": [],
   "source": [
    "import numpy as np\n",
    "import pandas as pd\n",
    "import fabio\n",
    "#import cupy as cp\n",
    "from datetime import datetime\n",
    "from numba import jit, cuda, prange"
   ]
  },
  {
   "cell_type": "code",
   "execution_count": 2,
   "metadata": {
    "ExecuteTime": {
     "end_time": "2020-07-13T14:11:33.414688Z",
     "start_time": "2020-07-13T14:11:33.407691Z"
    }
   },
   "outputs": [],
   "source": [
    "#initialze detector info\n",
    "# //These are the details of the detector in the detInfo wave\n",
    "# \t//detInfo[0] = xdim\n",
    "# \t//detInfo[1] = ydim\n",
    "# \t//detInfo[2] = xpixsize\tGiven in mm\n",
    "# \t//detInfo[3] = ypixsize\tGiven in mm\n",
    "# \t//detInfo[4] = xcen (pixels)\n",
    "# \t//detInfo[5] = ycen (pixels)\n",
    "# \t//detInfo[6] = tiltang\tGiven in degrees\n",
    "# \t//detInfo[7] = tiltrot\t\tGiven in degrees\n",
    "# \t//detInfo[8] = sample to detector distance\tGiven in mm\n",
    "# \t//detInfo[9] = lamda\tGiven in Angstroms\n",
    "# detInfo = np.array([1475,1679,0.17200001,0.17200001,738.00598,829.4032,0,0,450,0.23946001])\n",
    "detInfo = np.array([2048,2048,0.085,0.085,1062.08,1042.1,-0.655953,133.021,714.029,0.16118])\n",
    "imFilePrefix = \"\"\n",
    "imNumbers = np.arange(1,1000)\n",
    "boxsize = 501\n",
    "qmax = 5\n",
    "# boxname = \"\"\n",
    "omegaPos = np.arange(9.8,-50.2,-0.2)\n",
    "phiPos = np.zeros_like(omegaPos)\n",
    "psiPos = np.zeros_like(omegaPos)\n",
    "mask = []\n",
    "rejects = []\n",
    "cust_mask = []\n",
    "mask_list = []\n",
    "rotmatrix = np.array([0.61190927,0.098435618,-0.78477865,-0.78786123,-0.011431515,-0.61574668,0.069582619,-0.99507779,-0.070558563]).reshape((3,3))\n",
    "normInt = np.arange(1,1000)\n",
    "startIm = 0\n",
    "# box = np.zeros((boxsize,boxsize,boxsize),dtype=np.float32)"
   ]
  },
  {
   "cell_type": "code",
   "execution_count": 2,
   "metadata": {},
   "outputs": [
    {
     "data": {
      "application/vnd.jupyter.widget-view+json": {
       "model_id": "324ceaa7378b49979f14d07f8cd99449",
       "version_major": 2,
       "version_minor": 0
      },
      "text/plain": [
       "Canvas(toolbar=Toolbar(toolitems=[('Home', 'Reset original view', 'home', 'home'), ('Back', 'Back to previous …"
      ]
     },
     "metadata": {},
     "output_type": "display_data"
    },
    {
     "data": {
      "text/plain": [
       "[<matplotlib.lines.Line2D at 0x14af5810cc8>]"
      ]
     },
     "execution_count": 2,
     "metadata": {},
     "output_type": "execute_result"
    }
   ],
   "source": [
    "%matplotlib widget\n",
    "import matplotlib.pyplot as plt\n",
    "plt.figure()\n",
    "x = [1,2,3]\n",
    "y = [4,5,6]\n",
    "plt.plot(x,y)"
   ]
  },
  {
   "cell_type": "code",
   "execution_count": 8,
   "metadata": {},
   "outputs": [
    {
     "data": {
      "text/plain": [
       "[<matplotlib.lines.Line2D at 0x1b75dde3c48>]"
      ]
     },
     "execution_count": 8,
     "metadata": {},
     "output_type": "execute_result"
    }
   ],
   "source": [
    "%matplotlib qt\n",
    "import matplotlib.pyplot as plt\n",
    "import numpy as np\n",
    "fig = plt.figure()\n",
    "plt.plot(np.sin(np.linspace(0,20,100)))"
   ]
  },
  {
   "cell_type": "code",
   "execution_count": 41,
   "metadata": {},
   "outputs": [],
   "source": [
    "def DiffuseReconstruction(fileNum):\n",
    "    tiltang = detInfo[6]*np.pi/180 \n",
    "    tiltrot = detInfo[7]*np.pi/180 \n",
    "    dist = detInfo[8]\n",
    "#     row,col = np.indices((int(detInfo[0]),int(detInfo[1])))\n",
    "    row = np.arange(0,int(detInfo[0])).repeat(int(detInfo[1])).reshape(int(detInfo[0]),int(detInfo[1]))\n",
    "    col = np.arange(0,int(detInfo[1])).repeat(int(detInfo[0])).reshape(int(detInfo[1]),int(detInfo[0]))\n",
    "    col = np.transpose(col)\n",
    "#     TT = (np.arctan(np.sqrt((np.cos(tiltang)**2*(np.cos(tiltrot)*((row-detInfo[4])*detInfo[2])+np.sin(tiltrot)*((col-detInfo[5])*detInfo[3]))**2 + (-np.sin(tiltrot)*((row-detInfo[4])*detInfo[2]) + np.cos(tiltrot)*((col-detInfo[5])*detInfo[3]))**2)/((dist+np.sin(tiltang)*(np.cos(tiltrot)*((row-detInfo[4])*detInfo[2])+np.sin(tiltrot)*((col-detInfo[5])*detInfo[3])))**2))))/2\n",
    "    TT = (np.sqrt(np.arctan((np.cos(tiltang)**2*(np.cos(tiltrot)*((row-detInfo[4])*detInfo[2])+np.sin(tiltrot)*((col-detInfo[5])*detInfo[3]))**2 + (-np.sin(tiltrot)*((row-detInfo[4])*detInfo[2]) + np.cos(tiltrot)*((col-detInfo[5])*detInfo[3]))**2)/((dist+np.sin(tiltang)*(np.cos(tiltrot)*((row-detInfo[4])*detInfo[2])+np.sin(tiltrot)*((col-detInfo[5])*detInfo[3])))**2))))/2\n",
    "    AZ = np.arctan2(((col-detInfo[5])*detInfo[3]), ((row-detInfo[4])*detInfo[2]))+np.pi \n",
    "# #     TT = np.transpose(TT)\n",
    "# #     AZ = np.transpose(AZ)\n",
    "    \n",
    "    TT1D = np.reshape(TT,int(detInfo[0])*int(detInfo[1]))\n",
    "    AZ1D = np.reshape(AZ,int(detInfo[0])*int(detInfo[1]))\n",
    "\n",
    "    bigbox = np.zeros((boxsize,boxsize,boxsize),dtype=np.float32)\n",
    "    numpixels = np.zeros((boxsize,boxsize,boxsize),dtype=np.uint32)\n",
    "    # Use ravel() for shallow copy or flatten() for deep copy\n",
    "\n",
    "    BBposX = np.zeros(int(detInfo[0])*int(detInfo[1]),dtype=np.int16)\n",
    "    BBposY = np.zeros(int(detInfo[0])*int(detInfo[1]),dtype=np.int16)\n",
    "    BBposZ = np.zeros(int(detInfo[0])*int(detInfo[1]),dtype=np.int16)\n",
    "\n",
    "    qrangex = np.linspace(-(qmax),qmax,boxsize)\n",
    "    qrangey = np.linspace(-(qmax),qmax,boxsize)\n",
    "    qrangez = np.linspace(-(qmax),qmax,boxsize)\n",
    "\n",
    "    for i in range(fileNum):\n",
    "        if i % 10 == 0:\n",
    "            print(i)\n",
    "        #use FABIO to load the image\n",
    "        CI_fabio = fabio.open(\"C:\\\\Users\\\\Patrick\\\\Desktop\\\\s1_363K_2p0_diffuse\\\\DisCorr\\\\s1_363K_2p0_diffuse_\"+(\"%04d\" % (i))+\".edf\")\n",
    "        #convert to numpy array\n",
    "        CI = np.asarray(CI_fabio.data)\n",
    "#         CI = np.transpose(CI)\n",
    "        CI = np.reshape(CI,int(detInfo[0])*int(detInfo[1]))\n",
    "        \n",
    "        bigboxloop,numpixelsloop = looper(i,CI,TT1D,AZ1D,qmax,qrangex,qrangey,qrangez,BBposX,BBposY,BBposZ)\n",
    "        bigbox += bigboxloop\n",
    "        numpixels += numpixelsloop\n",
    "    \n",
    "    #ignore dividing by inf or 0\n",
    "    np.seterr(divide='ignore', invalid='ignore')\n",
    "    bigbox /= numpixels\n",
    "    \n",
    "    return bigbox, numpixels"
   ]
  },
  {
   "cell_type": "code",
   "execution_count": 42,
   "metadata": {},
   "outputs": [],
   "source": [
    "@jit(nopython=True,parallel=True)\n",
    "# @jit(nopython=True)\n",
    "def looper(row,CI,TT1D,AZ1D,qmax,qrangex,qrangey,qrangez,BBposX,BBposY,BBposZ):\n",
    "    \n",
    "    bigboxloop = np.zeros((boxsize,boxsize,boxsize),dtype=np.float32)\n",
    "    numpixelsloop = np.zeros((boxsize,boxsize,boxsize),dtype=np.uint32)\n",
    "    \n",
    "    omega = omegaPos[row]*np.pi/180\n",
    "    phi = phiPos[row]*np.pi/180\n",
    "    psi = psiPos[row]*np.pi/180\n",
    "\n",
    "    qx = (4*np.pi*np.sin(TT1D)/detInfo[9]) * (np.sin(TT1D)*(np.sin(phi)*np.sin(psi)*np.sin(omega) + np.cos(phi)*np.cos(omega)) + np.cos(TT1D)*np.cos(AZ1D)*np.sin(phi)*np.cos(psi) - np.cos(TT1D)*np.sin(AZ1D)*(np.sin(phi)*np.sin(psi)*np.cos(omega) - np.cos(phi)*np.sin(omega)))\n",
    "    qy = (4*np.pi*np.sin(TT1D)/detInfo[9]) * (-np.sin(TT1D)*(np.cos(phi)*np.sin(psi)*np.sin(omega) - np.sin(phi)*np.cos(omega)) - np.cos(TT1D)*np.cos(AZ1D)*np.cos(phi)*np.cos(psi) + np.cos(TT1D)*np.sin(AZ1D)*(np.cos(phi)*np.sin(psi)*np.cos(omega) + np.sin(phi)*np.sin(omega)))\n",
    "    qz = (4*np.pi*np.sin(TT1D)/detInfo[9]) * (np.sin(TT1D)*np.cos(psi)*np.sin(omega) - np.cos(TT1D)*np.sin(AZ1D)*np.cos(psi)*np.cos(omega) - np.cos(TT1D)*np.cos(AZ1D)*np.sin(psi))\n",
    "#         qz = (4*np.pi*np.sin(TT1D)/detInfo[9]) * (np.sin(TT1D)*np.cos(psi)*np.sin(omega) - np.cos(TT1D)*np.sin(AZ1D)*np.cos(psi)*np.cos(omega) - np.cos(TT1D)*np.cos(AZ1D)*np.sin(psi))\n",
    "    \n",
    "    # apply matrix rotation\n",
    "    qxyz = np.concatenate((qx,qy,qz)).reshape(3,qx.size)\n",
    "    qxyz = rotmatrix @ qxyz\n",
    "\n",
    "    np.round((qxyz[0] - (qrangex[0])) / (qrangex[1]-qrangex[0]),0,BBposX).astype(np.int64)\n",
    "    np.round((qxyz[1] - (qrangey[0])) / (qrangey[1]-qrangey[0]),0,BBposY).astype(np.int64)\n",
    "    np.round((qxyz[2] - (qrangez[0])) / (qrangez[1]-qrangez[0]),0,BBposZ).astype(np.int64)\n",
    "    \n",
    "    for j in range(CI.size):\n",
    "        if(0 <= BBposX[j] and 0 <= BBposY[j] and 0 <= BBposZ[j] and BBposX[j] < bigboxloop.shape[0] and BBposY[j] < bigboxloop.shape[1] and BBposZ[j] < bigboxloop.shape[2] ):\n",
    "#         if(0 > BBposX[j] or 0 > BBposY[j] or 0 > BBposZ[j] or BBposX[j] > bigboxloop.shape[0] or BBposY[j] > bigboxloop.shape[1] or BBposZ[j] > bigboxloop.shape[2] ):\n",
    "            \n",
    "            if(np.isfinite(CI[j])):\n",
    "                bigboxloop[BBposX[j],BBposY[j],BBposZ[j]] += CI[j]\n",
    "                numpixelsloop[BBposX[j],BBposY[j],BBposZ[j]] += 1 \n",
    "    \n",
    "    return bigboxloop,numpixelsloop"
   ]
  },
  {
   "cell_type": "code",
   "execution_count": 43,
   "metadata": {},
   "outputs": [
    {
     "name": "stdout",
     "output_type": "stream",
     "text": [
      "0\n",
      "10\n",
      "20\n",
      "30\n",
      "40\n",
      "50\n",
      "60\n",
      "70\n",
      "80\n",
      "90\n",
      "100\n",
      "110\n",
      "120\n",
      "130\n",
      "140\n",
      "150\n",
      "160\n",
      "170\n",
      "180\n",
      "190\n",
      "200\n",
      "210\n",
      "220\n",
      "230\n",
      "240\n",
      "250\n",
      "260\n",
      "270\n",
      "280\n",
      "290\n"
     ]
    }
   ],
   "source": [
    "import gc\n",
    "#garbage collector\n",
    "gc.collect()\n",
    "\n",
    "box,numpixels = DiffuseReconstruction(300)"
   ]
  },
  {
   "cell_type": "code",
   "execution_count": 44,
   "metadata": {},
   "outputs": [],
   "source": [
    "from matplotlib import pyplot       # Load matplotlib\n",
    "%matplotlib qt\n",
    "pyplot.imshow(box[:, :, 250]) \n",
    "pyplot.show() \n"
   ]
  },
  {
   "cell_type": "code",
   "execution_count": 7,
   "metadata": {},
   "outputs": [],
   "source": [
    "import winsound\n",
    "winsound.Beep(300, 750)"
   ]
  },
  {
   "cell_type": "code",
   "execution_count": 45,
   "metadata": {},
   "outputs": [
    {
     "data": {
      "text/plain": [
       "227.38249"
      ]
     },
     "execution_count": 45,
     "metadata": {},
     "output_type": "execute_result"
    }
   ],
   "source": [
    "box[250, 250, 260]"
   ]
  },
  {
   "cell_type": "code",
   "execution_count": 64,
   "metadata": {},
   "outputs": [
    {
     "data": {
      "text/plain": [
       "0"
      ]
     },
     "execution_count": 64,
     "metadata": {},
     "output_type": "execute_result"
    }
   ],
   "source": [
    "# numpixels[17, 656, 549]\n",
    "np.max(numpixels)"
   ]
  },
  {
   "cell_type": "code",
   "execution_count": 6,
   "metadata": {},
   "outputs": [
    {
     "name": "stdout",
     "output_type": "stream",
     "text": [
      "0\n",
      "10\n",
      "20\n",
      "30\n",
      "40\n",
      "50\n",
      "60\n",
      "70\n",
      "80\n",
      "90\n",
      "0:01:24.638224\n"
     ]
    }
   ],
   "source": [
    "startTime = datetime.now()\n",
    "\n",
    "box = DiffuseReconstruction(100)\n",
    "\n",
    "print(datetime.now() - startTime)"
   ]
  }
 ],
 "metadata": {
  "kernelspec": {
   "display_name": "Python 3",
   "language": "python",
   "name": "python3"
  },
  "language_info": {
   "codemirror_mode": {
    "name": "ipython",
    "version": 3
   },
   "file_extension": ".py",
   "mimetype": "text/x-python",
   "name": "python",
   "nbconvert_exporter": "python",
   "pygments_lexer": "ipython3",
   "version": "3.7.6"
  },
  "varInspector": {
   "cols": {
    "lenName": 16,
    "lenType": 16,
    "lenVar": 40
   },
   "kernels_config": {
    "python": {
     "delete_cmd_postfix": "",
     "delete_cmd_prefix": "del ",
     "library": "var_list.py",
     "varRefreshCmd": "print(var_dic_list())"
    },
    "r": {
     "delete_cmd_postfix": ") ",
     "delete_cmd_prefix": "rm(",
     "library": "var_list.r",
     "varRefreshCmd": "cat(var_dic_list()) "
    }
   },
   "position": {
    "height": "516.979px",
    "left": "1628.32px",
    "right": "20px",
    "top": "224.972px",
    "width": "493.542px"
   },
   "types_to_exclude": [
    "module",
    "function",
    "builtin_function_or_method",
    "instance",
    "_Feature"
   ],
   "window_display": true
  }
 },
 "nbformat": 4,
 "nbformat_minor": 4
}
