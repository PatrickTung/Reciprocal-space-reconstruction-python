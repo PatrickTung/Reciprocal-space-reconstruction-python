{
 "cells": [
  {
   "cell_type": "code",
   "execution_count": 1,
   "metadata": {},
   "outputs": [],
   "source": [
    "import numpy as np\n",
    "import fabio\n",
    "#import cupy as cp\n",
    "from datetime import datetime\n",
    "from numba import jit, cuda, prange"
   ]
  },
  {
   "cell_type": "code",
   "execution_count": 2,
   "metadata": {},
   "outputs": [],
   "source": [
    "#initialze detector info\n",
    "# //These are the details of the detector in the detInfo wave\n",
    "# \t//detInfo[0] = xdim\n",
    "# \t//detInfo[1] = ydim\n",
    "# \t//detInfo[2] = xpixsize\tGiven in mm\n",
    "# \t//detInfo[3] = ypixsize\tGiven in mm\n",
    "# \t//detInfo[4] = xcen (pixels)\n",
    "# \t//detInfo[5] = ycen (pixels)\n",
    "# \t//detInfo[6] = tiltang\tGiven in degrees\n",
    "# \t//detInfo[7] = tiltrot\t\tGiven in degrees\n",
    "# \t//detInfo[8] = sample to detector distance\tGiven in mm\n",
    "# \t//detInfo[9] = lamda\tGiven in Angstroms\n",
    "# detInfo = np.array([1475,1679,0.17200001,0.17200001,738.00598,829.4032,0,0,450,0.23946001])\n",
    "detInfo = np.array([2048,2048,0.085,0.085,1062.08,1042.1,-0.655953,133.021,714.029,0.16118])\n",
    "imFilePrefix = \"\"\n",
    "imNumbers = np.arange(1,1000)\n",
    "boxsize = 500\n",
    "qmax = 5\n",
    "# boxname = \"\"\n",
    "omegaPos = np.arange(9.8,-50.2,0.2)\n",
    "phiPos = np.zeros_like(omegaPos)\n",
    "psiPos = np.zeros_like(omegaPos)\n",
    "# phiPos = np.arange(0,0,0.2)\n",
    "# psiPos = np.arange(0,0,0.2)\n",
    "mask = []\n",
    "rejects = []\n",
    "cust_mask = []\n",
    "mask_list = []\n",
    "rotmatrix = np.eye(3)\n",
    "normInt = np.arange(1,1000)\n",
    "startIm = 0\n",
    "# box = np.zeros((boxsize,boxsize,boxsize),dtype=np.float32)"
   ]
  },
  {
   "cell_type": "code",
   "execution_count": 15,
   "metadata": {},
   "outputs": [],
   "source": [
    "\n",
    "# @jit(nopython=True,parallel=True)\n",
    "def DiffuseReconstruction(fileNum):\n",
    "    tiltang = detInfo[6]*np.pi/180 \n",
    "    tiltrot = detInfo[7]*np.pi/180 \n",
    "    dist = detInfo[8]\n",
    "\n",
    "#     row,col = np.indices((int(detInfo[0]),int(detInfo[1])))\n",
    "    row = np.arange(0,int(detInfo[0])).repeat(int(detInfo[1])).reshape(int(detInfo[0]),int(detInfo[1]))\n",
    "    col = np.arange(0,int(detInfo[1])).repeat(int(detInfo[0])).reshape(int(detInfo[1]),int(detInfo[0]))\n",
    "    col = np.transpose(col)\n",
    "    TT = (np.arctan(np.sqrt((np.cos(tiltang)**2*(np.cos(tiltrot)*((row-detInfo[4])*detInfo[2])+np.sin(tiltrot)*((col-detInfo[5])*detInfo[3]))**2 + (-np.sin(tiltrot)*((row-detInfo[4])*detInfo[2]) + np.cos(tiltrot)*((col-detInfo[5])*detInfo[3]))**2)/((dist+np.sin(tiltang)*(np.cos(tiltrot)*((row-detInfo[4])*detInfo[2])+np.sin(tiltrot)*((col-detInfo[5])*detInfo[3])))**2))))/2\n",
    "    AZ = np.arctan2(((col-detInfo[5])*detInfo[3]), ((row-detInfo[4])*detInfo[2]))+np.pi\n",
    "#     grid = np.indices((int(detInfo[0]),int(detInfo[1])))\n",
    "#     TT = (np.arctan(np.sqrt((np.cos(tiltang)**2*(np.cos(tiltrot)*((grid[0]-detInfo[4])*detInfo[2])+np.sin(tiltrot)*((grid[1]-detInfo[5])*detInfo[3]))**2 + (-np.sin(tiltrot)*((grid[0]-detInfo[4])*detInfo[2]) + np.cos(tiltrot)*((grid[1]-detInfo[5])*detInfo[3]))**2)/((dist+np.sin(tiltang)*(np.cos(tiltrot)*((grid[0]-detInfo[4])*detInfo[2])+np.sin(tiltrot)*((grid[1]-detInfo[5])*detInfo[3])))**2))))/2\n",
    "#     AZ = np.arctan2(((grid[1]-detInfo[5])*detInfo[3]), ((grid[0]-detInfo[4])*detInfo[2]))+np.pi\n",
    "\n",
    "    TT1D = np.reshape(TT,int(detInfo[0])*int(detInfo[1]))\n",
    "    AZ1D = np.reshape(AZ,int(detInfo[0])*int(detInfo[1]))\n",
    "\n",
    "#     boxname = np.empty((boxsize,boxsize,boxsize))\n",
    "#     boxname[:] = np.NaN\n",
    "#     numpixels = np.empty((boxsize,boxsize,boxsize))\n",
    "#     numpixels[:] = np.NaN\n",
    "#     boxname = np.zeros((boxsize,boxsize,boxsize))\n",
    "#     numpixels = np.zeros((boxsize,boxsize,boxsize))\n",
    "\n",
    "    boxname = np.zeros((boxsize,boxsize,boxsize),dtype=np.float32)\n",
    "    numpixels = np.zeros((boxsize,boxsize,boxsize),dtype=np.uint32)\n",
    "    # Use ravel() for shallow copy or flatten() for deep copy\n",
    "\n",
    "#     omega = 0\n",
    "#     phi = 0\n",
    "#     psi = 0\n",
    "#     qx = np.zeros(int(detInfo[0])*int(detInfo[1]))\n",
    "#     qy = np.zeros(int(detInfo[0])*int(detInfo[1]))\n",
    "#     qz = np.zeros(int(detInfo[0])*int(detInfo[1]))\n",
    "    BBposX = np.zeros(int(detInfo[0])*int(detInfo[1]),dtype=np.int16)\n",
    "    BBposY = np.zeros(int(detInfo[0])*int(detInfo[1]),dtype=np.int16)\n",
    "    BBposZ = np.zeros(int(detInfo[0])*int(detInfo[1]),dtype=np.int16)\n",
    "\n",
    "    qrangex = np.linspace(-(qmax),qmax,boxsize)\n",
    "    qrangey = np.linspace(-(qmax),qmax,boxsize)\n",
    "    qrangez = np.linspace(-(qmax),qmax,boxsize)\n",
    "\n",
    "    # for i in range(int(detInfo[0])*int(detInfo[1])):\n",
    "    for i in range(fileNum):\n",
    "#         if i % 10 == 0:\n",
    "        print(i)\n",
    "        #use FABIO to load the image\n",
    "#         CI_fabio = fabio.open(\"E:\\\\ESRF_Oct_2014_Experiments\\\\Debbie_Single_Crystal_experiments\\\\s1_363K_2p0_diffuse\\\\DisCorr\\\\s1_363K_2p0_diffuse_0000.edf\")\n",
    "#         CI_fabio = fabio.open(\"C:\\\\Users\\\\Patrick\\\\Desktop\\\\s1_363K_2p0_diffuse\\\\DisCorr\\\\s1_363K_2p0_diffuse_0000.edf\")\n",
    "        CI_fabio = fabio.open(\"C:\\\\Users\\\\Patrick\\\\Desktop\\\\s1_363K_2p0_diffuse\\\\DisCorr\\\\s1_363K_2p0_diffuse_\"+(\"%04d\" % (i))+\".edf\")\n",
    "        #convert to numpy array\n",
    "        CI = np.asarray(CI_fabio.data)\n",
    "        CI = np.reshape(CI,int(detInfo[0])*int(detInfo[1]))\n",
    "        #maybe a matrix transpose here\n",
    "        \n",
    "        omega = omegaPos[i]*np.pi/180\n",
    "        phi = phiPos[i]*np.pi/180\n",
    "        psi = psiPos[i]*np.pi/180\n",
    "\n",
    "        qx = (4*np.pi*np.sin(TT1D)/detInfo[9]) * (np.sin(TT1D)*(np.sin(phi)*np.sin(psi)*np.sin(omega) + np.cos(phi)*np.cos(omega)) + np.cos(TT1D)*np.cos(AZ1D)*np.sin(phi)*np.cos(psi) - np.cos(TT1D)*np.sin(AZ1D)*(np.sin(phi)*np.sin(psi)*np.cos(omega) - np.cos(phi)*np.sin(omega)))\n",
    "        qy = (4*np.pi*np.sin(TT1D)/detInfo[9]) * (-np.sin(TT1D)*(np.cos(phi)*np.sin(psi)*np.sin(omega) - np.sin(phi)*np.cos(omega)) - np.cos(TT1D)*np.cos(AZ1D)*np.cos(phi)*np.cos(psi) + np.cos(TT1D)*np.sin(AZ1D)*(np.cos(phi)*np.sin(psi)*np.cos(omega) + np.sin(phi)*np.sin(omega)))\n",
    "        qz = (4*np.pi*np.sin(TT1D)/detInfo[9]) * (np.sin(TT1D)*np.cos(psi)*np.sin(omega) - np.cos(TT1D)*np.sin(AZ1D)*np.cos(psi)*np.cos(omega) - np.cos(TT1D)*np.cos(AZ1D)*np.sin(psi))\n",
    "        \n",
    "        BBposX = np.round((qx - (qmax)) / (qrangex[1]-qrangex[0]))\n",
    "        BBposY = np.round((qy - (qmax)) / (qrangey[1]-qrangey[0]))\n",
    "        BBposZ = np.round((qz - (qmax)) / (qrangez[1]-qrangez[0]))\n",
    "        \n",
    "        for j in range(CI.size):\n",
    "            if(0 <= BBposX[j] and 0 <= BBposY[j] and 0 <= BBposZ[j] and BBposX[j] < bigbox.shape[0] and BBposY[j] < bigbox.shape[1] and BBposZ[j] < bigbox.shape[2] ):\n",
    "                if(np.isfinite(image[j])):\n",
    "\n",
    "    #             print(j)\n",
    "    #                 if(np.isnan(boxname[BBposX[j],BBposY[j],BBposZ[j]]) == True):\n",
    "                    boxname[BBposX[j],BBposY[j],BBposZ[j]] += CI[j]\n",
    "                    numpixels[BBposX[j],BBposY[j],BBposZ[j]] += 1 \n",
    "        \n",
    "#     print(boxname)\n",
    "#     boxname = boxname/num\n",
    "    \n",
    "    #ignore dividing by inf or 0\n",
    "    np.seterr(divide='ignore', invalid='ignore')\n",
    "    boxname = boxname/numpixels\n",
    "    \n",
    "    return boxname, numpixels\n",
    "    \n",
    "#     print(boxname[17, 656, 549])"
   ]
  },
  {
   "cell_type": "code",
   "execution_count": 16,
   "metadata": {},
   "outputs": [
    {
     "name": "stdout",
     "output_type": "stream",
     "text": [
      "0\n",
      "1\n",
      "2\n",
      "3\n",
      "4\n",
      "5\n",
      "6\n",
      "7\n",
      "8\n",
      "9\n"
     ]
    }
   ],
   "source": [
    "import gc\n",
    "#garbage collector\n",
    "gc.collect()\n",
    "\n",
    "box,numpixels = DiffuseReconstruction(10)"
   ]
  },
  {
   "cell_type": "code",
   "execution_count": 60,
   "metadata": {},
   "outputs": [
    {
     "data": {
      "text/plain": [
       "0"
      ]
     },
     "execution_count": 60,
     "metadata": {},
     "output_type": "execute_result"
    }
   ],
   "source": [
    "numpixels[17, 656, 549]\n",
    "np.max(numpixels)"
   ]
  },
  {
   "cell_type": "code",
   "execution_count": 23,
   "metadata": {},
   "outputs": [],
   "source": [
    "from matplotlib import pyplot       # Load matplotlib\n",
    "%matplotlib qt\n",
    "pyplot.imshow(box[:, :, 250]) \n",
    "pyplot.show() \n"
   ]
  },
  {
   "cell_type": "code",
   "execution_count": 7,
   "metadata": {},
   "outputs": [],
   "source": [
    "import winsound\n",
    "winsound.Beep(300, 750)"
   ]
  },
  {
   "cell_type": "code",
   "execution_count": 22,
   "metadata": {},
   "outputs": [
    {
     "data": {
      "text/plain": [
       "nan"
      ]
     },
     "execution_count": 22,
     "metadata": {},
     "output_type": "execute_result"
    }
   ],
   "source": [
    "box[260, 250, 250]"
   ]
  },
  {
   "cell_type": "code",
   "execution_count": 6,
   "metadata": {},
   "outputs": [
    {
     "name": "stdout",
     "output_type": "stream",
     "text": [
      "0\n",
      "10\n",
      "20\n",
      "30\n",
      "40\n",
      "50\n",
      "60\n",
      "70\n",
      "80\n",
      "90\n",
      "0:01:24.638224\n"
     ]
    }
   ],
   "source": [
    "startTime = datetime.now()\n",
    "\n",
    "box = DiffuseReconstruction(100)\n",
    "\n",
    "print(datetime.now() - startTime)"
   ]
  },
  {
   "cell_type": "code",
   "execution_count": null,
   "metadata": {},
   "outputs": [],
   "source": []
  }
 ],
 "metadata": {
  "kernelspec": {
   "display_name": "Python 3",
   "language": "python",
   "name": "python3"
  },
  "language_info": {
   "codemirror_mode": {
    "name": "ipython",
    "version": 3
   },
   "file_extension": ".py",
   "mimetype": "text/x-python",
   "name": "python",
   "nbconvert_exporter": "python",
   "pygments_lexer": "ipython3",
   "version": "3.7.6"
  }
 },
 "nbformat": 4,
 "nbformat_minor": 4
}
